{
 "cells": [
  {
   "cell_type": "markdown",
   "metadata": {
    "application/vnd.databricks.v1+cell": {
     "cellMetadata": {
      "byteLimit": 2048000,
      "rowLimit": 10000
     },
     "inputWidgets": {},
     "nuid": "c58e8dba-fe8e-4c71-bc10-386152dd20d3",
     "showTitle": false,
     "tableResultSettingsMap": {},
     "title": ""
    }
   },
   "source": [
    "# Bronze Layer: Initial Load & Sanity Check\n",
    "**Purpose:** Confirm that all raw CSVs were ingested into Bronze Delta tables and are queryable.  \n",
    "**Inputs:** Imported CSV files → saved as `bronze_customers`, `bronze_orders`, `bronze_order_items`, `bronze_products`.  \n",
    "**Outputs:** Row counts + first 5 rows preview for each Bronze table.  \n",
    "\n",
    "**Key steps:**\n",
    "- Set active catalog and schema (`workspace.default`).\n",
    "- Loop through each Bronze table name.\n",
    "- Print row count to verify successful load.\n",
    "- Display a sample of 5 rows for a quick structure check.  \n",
    "\n",
    "**Why it matters:** Ensures the Bronze layer is ready before applying any transformations in Silver. It’s the foundation of the Medallion pipeline."
   ]
  },
  {
   "cell_type": "code",
   "execution_count": 0,
   "metadata": {
    "application/vnd.databricks.v1+cell": {
     "cellMetadata": {
      "byteLimit": 2048000,
      "rowLimit": 10000
     },
     "inputWidgets": {},
     "nuid": "e0880b7c-c8c2-4135-b2cf-9acc388c9c0e",
     "showTitle": false,
     "tableResultSettingsMap": {},
     "title": ""
    }
   },
   "outputs": [
    {
     "output_type": "stream",
     "name": "stdout",
     "output_type": "stream",
     "text": [
      "Table: bronze_customers\n+----+\n|rows|\n+----+\n|  41|\n+----+\n\n+-----------+-------------+------+-----------+\n|customer_id|customer_name|region|signup_date|\n+-----------+-------------+------+-----------+\n|          1| Lucas Garcia|    WA| 2022-05-23|\n|          2|Oliver Martin|    SA| 2022-06-13|\n|          3|    Leo Brown|   ACT| 2023-07-24|\n|          4|    Zoe Kumar|   QLD| 2024-01-29|\n|          5|  Lucas Jones|    SA| 2022-05-27|\n+-----------+-------------+------+-----------+\n\nTable: bronze_orders\n+----+\n|rows|\n+----+\n| 121|\n+----+\n\n+--------+-----------+----------+---------+\n|order_id|customer_id|order_date|   status|\n+--------+-----------+----------+---------+\n|       1|          7|2024-03-03|CANCELLED|\n|       2|         22|2024-04-21|  Shipped|\n|       3|         13|2024-07-13| Returned|\n|       4|         29|2024-05-23|CANCELLED|\n|       5|         12|2024-10-12|CANCELLED|\n+--------+-----------+----------+---------+\n\nTable: bronze_order_items\n+----+\n|rows|\n+----+\n| 312|\n+----+\n\n+-------------+--------+----------+--------+----------+\n|order_item_id|order_id|product_id|quantity|unit_price|\n+-------------+--------+----------+--------+----------+\n|            1|       1|         9|       4|    103.42|\n|            2|       1|        16|       1|    111.58|\n|            3|       2|        11|       4|    114.12|\n|            4|       2|        24|       2|    415.56|\n|            5|       2|        15|       2|    173.42|\n+-------------+--------+----------+--------+----------+\n\nTable: bronze_products\n+----+\n|rows|\n+----+\n|  26|\n+----+\n\n+----------+--------------+------------------+----------+\n|product_id|      category|      product_name|list_price|\n+----------+--------------+------------------+----------+\n|         1|        Sports|     Sports Item 1|     60.11|\n|         2|        Sports|     Sports Item 2|    141.14|\n|         3|Home & Kitchen|       Home Item 3|     74.07|\n|         4|   Electronics|Electronics Item 4|    339.97|\n|         5|      Clothing|   Clothing Item 5|     48.03|\n+----------+--------------+------------------+----------+\n\n"
     ]
    }
   ],
   "source": [
    "# Switch to catalog/schema\n",
    "spark.sql(\"USE CATALOG workspace\")\n",
    "spark.sql(\"USE SCHEMA default\")\n",
    "\n",
    "tables = [\"bronze_customers\", \"bronze_orders\", \"bronze_order_items\", \"bronze_products\"]\n",
    "\n",
    "for t in tables:\n",
    "    print(f\"Table: {t}\")\n",
    "    spark.sql(f\"SELECT COUNT(*) as rows FROM {t}\").show()\n",
    "    spark.sql(f\"SELECT * FROM {t} LIMIT 5\").show()"
   ]
  },
  {
   "cell_type": "markdown",
   "metadata": {
    "application/vnd.databricks.v1+cell": {
     "cellMetadata": {
      "byteLimit": 2048000,
      "rowLimit": 10000
     },
     "inputWidgets": {},
     "nuid": "1a6c07bb-02e7-403d-ad29-a3fb8cfdc837",
     "showTitle": false,
     "tableResultSettingsMap": {},
     "title": ""
    }
   },
   "source": [
    "# \uD83E\uDD48 Silver Layer: Cleaned & Standardized Data\n",
    "The Silver layer refines raw Bronze data into **typed, de-duplicated, and normalized tables**.  \n",
    "This ensures consistent joins and analytics downstream.  \n",
    "Key activities in Silver:  \n",
    "- Casting IDs to correct types (INT, DOUBLE).  \n",
    "- Trimming text fields and normalizing case.  \n",
    "- Replacing blanks with NULLs where appropriate.  \n",
    "- Removing duplicate rows on natural keys.  \n",
    "\n",
    "Silver tables serve as the **single source of truth** for building the Gold layer."
   ]
  },
  {
   "cell_type": "markdown",
   "metadata": {
    "application/vnd.databricks.v1+cell": {
     "cellMetadata": {
      "byteLimit": 2048000,
      "rowLimit": 10000
     },
     "inputWidgets": {},
     "nuid": "bac9e819-71cd-410a-9ee3-c26bacb3f5ed",
     "showTitle": false,
     "tableResultSettingsMap": {},
     "title": ""
    }
   },
   "source": [
    "## Silver: Customers\n",
    "**Purpose:** Standardize and clean customer attributes for reliable analytics.  \n",
    "**Inputs:** `bronze_customers`  \n",
    "**Output:** `silver_customers` (Delta table)\n",
    "\n",
    "**Key steps:**\n",
    "- Cast `customer_id` → INT  \n",
    "- Trim whitespace in `customer_name`  \n",
    "- Normalize `region` to uppercase for consistency  \n",
    "- Keep `signup_date` as STRING for now (parse later if needed)  \n",
    "- Drop duplicates on `customer_id`  \n",
    "\n",
    "**Why it matters:** Provides a clean customer dimension table that can be safely joined with orders and order_items in the Gold layer."
   ]
  },
  {
   "cell_type": "code",
   "execution_count": 0,
   "metadata": {
    "application/vnd.databricks.v1+cell": {
     "cellMetadata": {
      "byteLimit": 2048000,
      "rowLimit": 10000
     },
     "inputWidgets": {},
     "nuid": "e55b4f76-448d-445a-b73c-e417e9f4d18b",
     "showTitle": false,
     "tableResultSettingsMap": {},
     "title": ""
    }
   },
   "outputs": [
    {
     "output_type": "display_data",
     "data": {
      "text/html": [
       "<style scoped>\n",
       "  .table-result-container {\n",
       "    max-height: 300px;\n",
       "    overflow: auto;\n",
       "  }\n",
       "  table, th, td {\n",
       "    border: 1px solid black;\n",
       "    border-collapse: collapse;\n",
       "  }\n",
       "  th, td {\n",
       "    padding: 5px;\n",
       "  }\n",
       "  th {\n",
       "    text-align: left;\n",
       "  }\n",
       "</style><div class='table-result-container'><table class='table-result'><thead style='background-color: white'><tr><th>customer_id</th><th>customer_name</th><th>region</th><th>signup_date</th></tr></thead><tbody><tr><td>29</td><td>Ava Davis</td><td>ACT</td><td>2023-03-10</td></tr><tr><td>24</td><td>Ethan Nguyen</td><td>VIC</td><td>14/01/2024</td></tr><tr><td>39</td><td>Noah Brown</td><td>ACT</td><td>2023-12-27</td></tr><tr><td>38</td><td>Leo Kim</td><td>ACT</td><td>2023-01-25</td></tr><tr><td>15</td><td>Oliver Brown</td><td>QLD</td><td>2023/13/40</td></tr><tr><td>20</td><td>Henry Chen</td><td>QLD</td><td>2024-07-18</td></tr><tr><td>21</td><td>aarav thompson</td><td>QLD</td><td>2024-11-05</td></tr><tr><td>22</td><td>Noah White</td><td>WA</td><td>2022-11-10</td></tr><tr><td>26</td><td>Emily Williams</td><td>VIC</td><td>2024-09-22</td></tr><tr><td>17</td><td>Grace Davis</td><td>NT</td><td>2024-12-19</td></tr></tbody></table></div>"
      ]
     },
     "metadata": {
      "application/vnd.databricks.v1+output": {
       "addedWidgets": {},
       "aggData": [],
       "aggError": "",
       "aggOverflow": false,
       "aggSchema": [],
       "aggSeriesLimitReached": false,
       "aggType": "",
       "arguments": {},
       "columnCustomDisplayInfos": {},
       "data": [
        [
         29,
         "Ava Davis",
         "ACT",
         "2023-03-10"
        ],
        [
         24,
         "Ethan Nguyen",
         "VIC",
         "14/01/2024"
        ],
        [
         39,
         "Noah Brown",
         "ACT",
         "2023-12-27"
        ],
        [
         38,
         "Leo Kim",
         "ACT",
         "2023-01-25"
        ],
        [
         15,
         "Oliver Brown",
         "QLD",
         "2023/13/40"
        ],
        [
         20,
         "Henry Chen",
         "QLD",
         "2024-07-18"
        ],
        [
         21,
         "aarav thompson",
         "QLD",
         "2024-11-05"
        ],
        [
         22,
         "Noah White",
         "WA",
         "2022-11-10"
        ],
        [
         26,
         "Emily Williams",
         "VIC",
         "2024-09-22"
        ],
        [
         17,
         "Grace Davis",
         "NT",
         "2024-12-19"
        ]
       ],
       "datasetInfos": [],
       "dbfsResultPath": null,
       "isJsonSchema": true,
       "metadata": {},
       "overflow": false,
       "plotOptions": {
        "customPlotOptions": {},
        "displayType": "table",
        "pivotAggregation": null,
        "pivotColumns": null,
        "xColumns": null,
        "yColumns": null
       },
       "removedWidgets": [],
       "schema": [
        {
         "metadata": "{}",
         "name": "customer_id",
         "type": "\"integer\""
        },
        {
         "metadata": "{}",
         "name": "customer_name",
         "type": "\"string\""
        },
        {
         "metadata": "{}",
         "name": "region",
         "type": "\"string\""
        },
        {
         "metadata": "{}",
         "name": "signup_date",
         "type": "\"string\""
        }
       ],
       "type": "table"
      }
     },
     "output_type": "display_data"
    }
   ],
   "source": [
    "from pyspark.sql import functions as F\n",
    "\n",
    "spark.sql(\"USE CATALOG workspace\")\n",
    "spark.sql(\"USE SCHEMA default\")\n",
    "\n",
    "bronze = spark.table(\"bronze_customers\")\n",
    "\n",
    "silver_customers = (\n",
    "    bronze\n",
    "    .withColumn(\"customer_id\", F.col(\"customer_id\").cast(\"int\"))\n",
    "    .withColumn(\"customer_name\", F.trim(F.col(\"customer_name\")))\n",
    "    .withColumn(\"region\", F.upper(F.trim(F.col(\"region\"))))\n",
    "    # keeping signup_date as string for now \n",
    "    .dropDuplicates([\"customer_id\"])\n",
    ")\n",
    "\n",
    "(\n",
    "    silver_customers.write\n",
    "    .mode(\"overwrite\")\n",
    "    .option(\"overwriteSchema\", \"true\")\n",
    "    .format(\"delta\")\n",
    "    .saveAsTable(\"silver_customers\")\n",
    ")\n",
    "\n",
    "display(spark.table(\"silver_customers\").limit(10))"
   ]
  },
  {
   "cell_type": "markdown",
   "metadata": {
    "application/vnd.databricks.v1+cell": {
     "cellMetadata": {
      "byteLimit": 2048000,
      "rowLimit": 10000
     },
     "inputWidgets": {},
     "nuid": "74a4e6e7-dc7f-4d70-8b68-3ad493b2e456",
     "showTitle": false,
     "tableResultSettingsMap": {},
     "title": ""
    }
   },
   "source": [
    "## Silver: Orders\n",
    "**Purpose:** Standardize and clean order-level data for consistent downstream joins.  \n",
    "**Inputs:** `bronze_orders`  \n",
    "**Output:** `silver_orders` (Delta table)  \n",
    "\n",
    "**Key steps:**\n",
    "- Cast `customer_id` and `order_id` → INT  \n",
    "- Normalize `status` → trimmed + uppercase, blanks replaced with NULL  \n",
    "- Trim `order_date` and keep as STRING (date parsing handled later in Gold)  \n",
    "- Drop duplicates on `order_id`  \n",
    "\n",
    "**Why it matters:** Produces a consistent orders table that links customers to their transactions.  \n",
    "It also preserves order_date for parsing while ensuring status values are clean for analysis."
   ]
  },
  {
   "cell_type": "code",
   "execution_count": 0,
   "metadata": {
    "application/vnd.databricks.v1+cell": {
     "cellMetadata": {
      "byteLimit": 2048000,
      "rowLimit": 10000
     },
     "inputWidgets": {},
     "nuid": "b7608b59-6caf-462e-9eaf-ef75afaf6ddd",
     "showTitle": false,
     "tableResultSettingsMap": {},
     "title": ""
    }
   },
   "outputs": [
    {
     "output_type": "display_data",
     "data": {
      "text/html": [
       "<style scoped>\n",
       "  .table-result-container {\n",
       "    max-height: 300px;\n",
       "    overflow: auto;\n",
       "  }\n",
       "  table, th, td {\n",
       "    border: 1px solid black;\n",
       "    border-collapse: collapse;\n",
       "  }\n",
       "  th, td {\n",
       "    padding: 5px;\n",
       "  }\n",
       "  th {\n",
       "    text-align: left;\n",
       "  }\n",
       "</style><div class='table-result-container'><table class='table-result'><thead style='background-color: white'><tr><th>order_id</th><th>customer_id</th><th>order_date</th><th>status</th></tr></thead><tbody><tr><td>94</td><td>27</td><td>2024-07-18</td><td>CANCELLED</td></tr><tr><td>29</td><td>41</td><td>2024-11-03</td><td>CANCELLED</td></tr><tr><td>88</td><td>6</td><td>2024-10-17</td><td>RETURNED</td></tr><tr><td>108</td><td>5</td><td>2024-10-19</td><td>SHIPPED</td></tr><tr><td>56</td><td>27</td><td>2024-06-07</td><td>SHIPPED</td></tr><tr><td>24</td><td>16</td><td>2024-02-10</td><td>RETURNED</td></tr><tr><td>99</td><td>36</td><td>2024-09-12</td><td>PLACED</td></tr><tr><td>39</td><td>9</td><td>2024-09-27</td><td>PLACED</td></tr><tr><td>102</td><td>21</td><td>03/29/2025</td><td>RETURNED</td></tr><tr><td>38</td><td>36</td><td>2024-11-02</td><td>PLACED</td></tr></tbody></table></div>"
      ]
     },
     "metadata": {
      "application/vnd.databricks.v1+output": {
       "addedWidgets": {},
       "aggData": [],
       "aggError": "",
       "aggOverflow": false,
       "aggSchema": [],
       "aggSeriesLimitReached": false,
       "aggType": "",
       "arguments": {},
       "columnCustomDisplayInfos": {},
       "data": [
        [
         94,
         27,
         "2024-07-18",
         "CANCELLED"
        ],
        [
         29,
         41,
         "2024-11-03",
         "CANCELLED"
        ],
        [
         88,
         6,
         "2024-10-17",
         "RETURNED"
        ],
        [
         108,
         5,
         "2024-10-19",
         "SHIPPED"
        ],
        [
         56,
         27,
         "2024-06-07",
         "SHIPPED"
        ],
        [
         24,
         16,
         "2024-02-10",
         "RETURNED"
        ],
        [
         99,
         36,
         "2024-09-12",
         "PLACED"
        ],
        [
         39,
         9,
         "2024-09-27",
         "PLACED"
        ],
        [
         102,
         21,
         "03/29/2025",
         "RETURNED"
        ],
        [
         38,
         36,
         "2024-11-02",
         "PLACED"
        ]
       ],
       "datasetInfos": [],
       "dbfsResultPath": null,
       "isJsonSchema": true,
       "metadata": {},
       "overflow": false,
       "plotOptions": {
        "customPlotOptions": {},
        "displayType": "table",
        "pivotAggregation": null,
        "pivotColumns": null,
        "xColumns": null,
        "yColumns": null
       },
       "removedWidgets": [],
       "schema": [
        {
         "metadata": "{}",
         "name": "order_id",
         "type": "\"integer\""
        },
        {
         "metadata": "{}",
         "name": "customer_id",
         "type": "\"integer\""
        },
        {
         "metadata": "{}",
         "name": "order_date",
         "type": "\"string\""
        },
        {
         "metadata": "{}",
         "name": "status",
         "type": "\"string\""
        }
       ],
       "type": "table"
      }
     },
     "output_type": "display_data"
    }
   ],
   "source": [
    "from pyspark.sql import functions as F\n",
    "\n",
    "spark.sql(\"USE CATALOG workspace\")\n",
    "spark.sql(\"USE SCHEMA default\")\n",
    "\n",
    "bronze = spark.table(\"bronze_orders\")\n",
    "\n",
    "silver_orders = (\n",
    "    bronze\n",
    "    .withColumn(\"customer_id\", F.col(\"customer_id\").cast(\"int\"))\n",
    "    .withColumn(\"order_id\", F.col(\"order_id\").cast(\"int\"))\n",
    "    .withColumn(\"status\", F.upper(F.trim(F.col(\"status\"))))\n",
    "    .withColumn(\"status\", F.when(F.col(\"status\") == \"\", F.lit(None)).otherwise(F.col(\"status\")))\n",
    "    .withColumn(\"order_date\",  F.trim(F.col(\"order_date\")))   # keep as string for now\n",
    "    .dropDuplicates([\"order_id\"])\n",
    ")\n",
    "\n",
    "(\n",
    "    silver_orders.write\n",
    "    .mode(\"overwrite\")\n",
    "    .option(\"overwriteSchema\", \"true\")\n",
    "    .format(\"delta\")\n",
    "    .saveAsTable(\"silver_orders\")\n",
    ")\n",
    "\n",
    "display(spark.table(\"silver_orders\").limit(10))"
   ]
  },
  {
   "cell_type": "markdown",
   "metadata": {
    "application/vnd.databricks.v1+cell": {
     "cellMetadata": {
      "byteLimit": 2048000,
      "rowLimit": 10000
     },
     "inputWidgets": {},
     "nuid": "8e91d26d-9f0e-4c09-8bab-53fb38ec753e",
     "showTitle": false,
     "tableResultSettingsMap": {},
     "title": ""
    }
   },
   "source": [
    "## Silver: Order Items\n",
    "**Purpose:** Clean and standardize order line-item data for accurate revenue calculations.  \n",
    "**Inputs:** `bronze_order_items`  \n",
    "**Output:** `silver_order_items` (Delta table)  \n",
    "\n",
    "**Key steps:**\n",
    "- Cast IDs (`order_item_id`, `product_id`, `order_id`) → INT  \n",
    "- Cast `quantity` → INT, and filter out zero or negative quantities  \n",
    "- Cast `unit_price` → DOUBLE  \n",
    "- Drop duplicates on `order_item_id`  \n",
    "\n",
    "**Why it matters:** Creates a reliable order-items table that can be joined with products and orders in Gold.  \n",
    "Filtering invalid quantities ensures downstream KPIs like revenue are not distorted."
   ]
  },
  {
   "cell_type": "code",
   "execution_count": 0,
   "metadata": {
    "application/vnd.databricks.v1+cell": {
     "cellMetadata": {
      "byteLimit": 2048000,
      "rowLimit": 10000
     },
     "inputWidgets": {},
     "nuid": "b686ffe5-8003-48dc-ad10-567082da1468",
     "showTitle": false,
     "tableResultSettingsMap": {},
     "title": ""
    }
   },
   "outputs": [
    {
     "output_type": "display_data",
     "data": {
      "text/html": [
       "<style scoped>\n",
       "  .table-result-container {\n",
       "    max-height: 300px;\n",
       "    overflow: auto;\n",
       "  }\n",
       "  table, th, td {\n",
       "    border: 1px solid black;\n",
       "    border-collapse: collapse;\n",
       "  }\n",
       "  th, td {\n",
       "    padding: 5px;\n",
       "  }\n",
       "  th {\n",
       "    text-align: left;\n",
       "  }\n",
       "</style><div class='table-result-container'><table class='table-result'><thead style='background-color: white'><tr><th>order_item_id</th><th>order_id</th><th>product_id</th><th>quantity</th><th>unit_price</th></tr></thead><tbody><tr><td>94</td><td>36</td><td>6</td><td>1</td><td>20.73</td></tr><tr><td>29</td><td>14</td><td>19</td><td>1</td><td>424.51</td></tr><tr><td>284</td><td>107</td><td>2</td><td>4</td><td>141.14</td></tr><tr><td>88</td><td>34</td><td>2</td><td>5</td><td>141.14</td></tr><tr><td>131</td><td>51</td><td>2</td><td>4</td><td>141.14</td></tr><tr><td>148</td><td>58</td><td>2</td><td>4</td><td>141.14</td></tr><tr><td>279</td><td>104</td><td>14</td><td>3</td><td>84.03</td></tr><tr><td>190</td><td>73</td><td>16</td><td>1</td><td>111.58</td></tr><tr><td>195</td><td>75</td><td>14</td><td>2</td><td>84.03</td></tr><tr><td>56</td><td>23</td><td>7</td><td>3</td><td>113.23</td></tr></tbody></table></div>"
      ]
     },
     "metadata": {
      "application/vnd.databricks.v1+output": {
       "addedWidgets": {},
       "aggData": [],
       "aggError": "",
       "aggOverflow": false,
       "aggSchema": [],
       "aggSeriesLimitReached": false,
       "aggType": "",
       "arguments": {},
       "columnCustomDisplayInfos": {},
       "data": [
        [
         94,
         36,
         6,
         1,
         20.73
        ],
        [
         29,
         14,
         19,
         1,
         424.51
        ],
        [
         284,
         107,
         2,
         4,
         141.14
        ],
        [
         88,
         34,
         2,
         5,
         141.14
        ],
        [
         131,
         51,
         2,
         4,
         141.14
        ],
        [
         148,
         58,
         2,
         4,
         141.14
        ],
        [
         279,
         104,
         14,
         3,
         84.03
        ],
        [
         190,
         73,
         16,
         1,
         111.58
        ],
        [
         195,
         75,
         14,
         2,
         84.03
        ],
        [
         56,
         23,
         7,
         3,
         113.23
        ]
       ],
       "datasetInfos": [],
       "dbfsResultPath": null,
       "isJsonSchema": true,
       "metadata": {},
       "overflow": false,
       "plotOptions": {
        "customPlotOptions": {},
        "displayType": "table",
        "pivotAggregation": null,
        "pivotColumns": null,
        "xColumns": null,
        "yColumns": null
       },
       "removedWidgets": [],
       "schema": [
        {
         "metadata": "{}",
         "name": "order_item_id",
         "type": "\"integer\""
        },
        {
         "metadata": "{}",
         "name": "order_id",
         "type": "\"integer\""
        },
        {
         "metadata": "{}",
         "name": "product_id",
         "type": "\"integer\""
        },
        {
         "metadata": "{}",
         "name": "quantity",
         "type": "\"integer\""
        },
        {
         "metadata": "{}",
         "name": "unit_price",
         "type": "\"double\""
        }
       ],
       "type": "table"
      }
     },
     "output_type": "display_data"
    }
   ],
   "source": [
    "from pyspark.sql import functions as F\n",
    "\n",
    "spark.sql(\"USE CATALOG workspace\")\n",
    "spark.sql(\"USE SCHEMA default\")\n",
    "\n",
    "bronze = spark.table(\"bronze_order_items\")\n",
    "\n",
    "silver_order_items = (\n",
    "    bronze\n",
    "    .withColumn(\"order_item_id\", F.col(\"order_item_id\").cast(\"int\"))\n",
    "    .withColumn(\"product_id\", F.col(\"product_id\").cast(\"int\"))\n",
    "    .withColumn(\"order_id\", F.col(\"order_id\").cast(\"int\"))\n",
    "    .withColumn(\"quantity\", F.col(\"quantity\").cast(\"int\"))\n",
    "    .filter(F.col(\"quantity\") > 0)  # drop zero/negative\n",
    "    .withColumn(\"unit_price\", F.col(\"unit_price\").cast(\"double\"))\n",
    "    .dropDuplicates([\"order_item_id\"])\n",
    ")\n",
    "\n",
    "(\n",
    "    silver_order_items.write\n",
    "    .mode(\"overwrite\")\n",
    "    .option(\"overwriteSchema\", \"true\")\n",
    "    .format(\"delta\")\n",
    "    .saveAsTable(\"silver_order_items\")\n",
    ")\n",
    "\n",
    "display(spark.table(\"silver_order_items\").limit(10))"
   ]
  },
  {
   "cell_type": "markdown",
   "metadata": {
    "application/vnd.databricks.v1+cell": {
     "cellMetadata": {
      "byteLimit": 2048000,
      "rowLimit": 10000
     },
     "inputWidgets": {},
     "nuid": "43ae864d-8875-4c14-8b11-43b6f6bc084b",
     "showTitle": false,
     "tableResultSettingsMap": {},
     "title": ""
    }
   },
   "source": [
    "## Silver: Products\n",
    "**Purpose:** Standardize and clean product catalog data for consistent use in analytics.  \n",
    "**Inputs:** `bronze_products`  \n",
    "**Output:** `silver_products` (Delta table)  \n",
    "\n",
    "**Key steps:**\n",
    "- Cast `product_id` → INT  \n",
    "- Trim `product_name`, replace blanks with NULL  \n",
    "- Normalize `category` → uppercase, replace blanks with NULL  \n",
    "- Clean `list_price` by removing `$` and commas, then cast to DOUBLE  \n",
    "- Drop duplicates on `product_id`  \n",
    "\n",
    "**Why it matters:** Produces a clean, standardized product dimension that links order items to categories and list prices, enabling reliable revenue breakdowns by product and category."
   ]
  },
  {
   "cell_type": "code",
   "execution_count": 0,
   "metadata": {
    "application/vnd.databricks.v1+cell": {
     "cellMetadata": {
      "byteLimit": 2048000,
      "rowLimit": 10000
     },
     "inputWidgets": {},
     "nuid": "2ca4f735-3da6-4ea2-9685-63cf91897ae5",
     "showTitle": false,
     "tableResultSettingsMap": {},
     "title": ""
    }
   },
   "outputs": [
    {
     "output_type": "display_data",
     "data": {
      "text/html": [
       "<style scoped>\n",
       "  .table-result-container {\n",
       "    max-height: 300px;\n",
       "    overflow: auto;\n",
       "  }\n",
       "  table, th, td {\n",
       "    border: 1px solid black;\n",
       "    border-collapse: collapse;\n",
       "  }\n",
       "  th, td {\n",
       "    padding: 5px;\n",
       "  }\n",
       "  th {\n",
       "    text-align: left;\n",
       "  }\n",
       "</style><div class='table-result-container'><table class='table-result'><thead style='background-color: white'><tr><th>product_id</th><th>category</th><th>product_name</th><th>list_price</th></tr></thead><tbody><tr><td>24</td><td>BOOKS</td><td>Books Item 24</td><td>415.56</td></tr><tr><td>15</td><td>TOYS</td><td>Toys Item 15</td><td>173.42</td></tr><tr><td>20</td><td>CLOTHING</td><td>Clothing Item 20</td><td>135.94</td></tr><tr><td>21</td><td>ELECTRONICS</td><td>Electronics Item 21</td><td>366.22</td></tr><tr><td>22</td><td>CLOTHING</td><td>Clothing Item 22</td><td>66.79</td></tr><tr><td>17</td><td>BEAUTY</td><td>Beauty Item 17</td><td>171.61</td></tr><tr><td>1</td><td>SPORTS</td><td>Sports Item 1</td><td>60.11</td></tr><tr><td>23</td><td>TOYS</td><td>Toys Item 23</td><td>44.01</td></tr><tr><td>4</td><td>ELECTRONICS</td><td>Electronics Item 4</td><td>339.97</td></tr><tr><td>13</td><td>BEAUTY</td><td>Beauty Item 13</td><td>8.22</td></tr></tbody></table></div>"
      ]
     },
     "metadata": {
      "application/vnd.databricks.v1+output": {
       "addedWidgets": {},
       "aggData": [],
       "aggError": "",
       "aggOverflow": false,
       "aggSchema": [],
       "aggSeriesLimitReached": false,
       "aggType": "",
       "arguments": {},
       "columnCustomDisplayInfos": {},
       "data": [
        [
         24,
         "BOOKS",
         "Books Item 24",
         415.56
        ],
        [
         15,
         "TOYS",
         "Toys Item 15",
         173.42
        ],
        [
         20,
         "CLOTHING",
         "Clothing Item 20",
         135.94
        ],
        [
         21,
         "ELECTRONICS",
         "Electronics Item 21",
         366.22
        ],
        [
         22,
         "CLOTHING",
         "Clothing Item 22",
         66.79
        ],
        [
         17,
         "BEAUTY",
         "Beauty Item 17",
         171.61
        ],
        [
         1,
         "SPORTS",
         "Sports Item 1",
         60.11
        ],
        [
         23,
         "TOYS",
         "Toys Item 23",
         44.01
        ],
        [
         4,
         "ELECTRONICS",
         "Electronics Item 4",
         339.97
        ],
        [
         13,
         "BEAUTY",
         "Beauty Item 13",
         8.22
        ]
       ],
       "datasetInfos": [],
       "dbfsResultPath": null,
       "isJsonSchema": true,
       "metadata": {},
       "overflow": false,
       "plotOptions": {
        "customPlotOptions": {},
        "displayType": "table",
        "pivotAggregation": null,
        "pivotColumns": null,
        "xColumns": null,
        "yColumns": null
       },
       "removedWidgets": [],
       "schema": [
        {
         "metadata": "{}",
         "name": "product_id",
         "type": "\"integer\""
        },
        {
         "metadata": "{}",
         "name": "category",
         "type": "\"string\""
        },
        {
         "metadata": "{}",
         "name": "product_name",
         "type": "\"string\""
        },
        {
         "metadata": "{}",
         "name": "list_price",
         "type": "\"double\""
        }
       ],
       "type": "table"
      }
     },
     "output_type": "display_data"
    }
   ],
   "source": [
    "from pyspark.sql import functions as F\n",
    "\n",
    "spark.sql(\"USE CATALOG workspace\")\n",
    "spark.sql(\"USE SCHEMA default\")\n",
    "\n",
    "bronze = spark.table(\"bronze_products\")\n",
    "\n",
    "silver_products = (\n",
    "    bronze\n",
    "    .withColumn(\"product_id\", F.col(\"product_id\").cast(\"int\"))\n",
    "\n",
    "    .withColumn(\"product_name\", F.trim(F.col(\"product_name\")))\n",
    "    .withColumn(\"product_name\",F.when(F.col(\"product_name\") == \"\", F.lit(None)).otherwise(F.col(\"product_name\")))\n",
    "\n",
    "    .withColumn(\"category\", F.upper(F.trim(F.col(\"category\"))))\n",
    "    .withColumn(\"category\", F.when(F.col(\"category\") == \"\", F.lit(None)).otherwise(F.col(\"category\")))\n",
    "\n",
    "    .withColumn(\"list_price\", F.regexp_replace(F.col(\"list_price\").cast(\"string\"), r\"[$,]\", \"\"))\n",
    "    .withColumn(\"list_price\", F.col(\"list_price\").cast(\"double\"))\n",
    "    .dropDuplicates([\"product_id\"])\n",
    ")\n",
    "\n",
    "(\n",
    "    silver_products.write\n",
    "    .mode(\"overwrite\")\n",
    "    .option(\"overwriteSchema\", \"true\")\n",
    "    .format(\"delta\")\n",
    "    .saveAsTable(\"silver_products\")\n",
    ")\n",
    "\n",
    "display(spark.table(\"silver_products\").limit(10))"
   ]
  },
  {
   "cell_type": "markdown",
   "metadata": {
    "application/vnd.databricks.v1+cell": {
     "cellMetadata": {
      "byteLimit": 2048000,
      "rowLimit": 10000
     },
     "inputWidgets": {},
     "nuid": "ef53a932-d69e-4e3f-a04c-22935a2be27a",
     "showTitle": false,
     "tableResultSettingsMap": {},
     "title": ""
    }
   },
   "source": [
    "# ✨ Gold Layer: Business-Ready Data\n",
    "The Gold layer transforms cleaned Silver data into **fact and dimension tables** that follow a star-schema style model.  \n",
    "This layer is optimized for analytics and reporting.  \n",
    "\n",
    "Key activities in Gold:  \n",
    "- Building **dimension tables** (customers, products) that hold descriptive attributes.  \n",
    "- Building **fact tables** (order lines, daily sales) that store measurable events and metrics.  \n",
    "- Parsing and standardizing dates for time-based analysis.  \n",
    "- Adding calculated business metrics like revenue and average order value (AOV).  \n",
    "\n",
    "Gold tables are what business intelligence tools (Power BI, Looker Studio, etc.) connect to directly."
   ]
  },
  {
   "cell_type": "code",
   "execution_count": 0,
   "metadata": {
    "application/vnd.databricks.v1+cell": {
     "cellMetadata": {
      "byteLimit": 2048000,
      "rowLimit": 10000
     },
     "inputWidgets": {},
     "nuid": "4a533a7a-6258-43de-bf5c-4683cf1c30c5",
     "showTitle": false,
     "tableResultSettingsMap": {},
     "title": ""
    }
   },
   "outputs": [
    {
     "output_type": "execute_result",
     "data": {
      "text/plain": [
       "DataFrame[]"
      ]
     },
     "execution_count": 167,
     "metadata": {},
     "output_type": "execute_result"
    }
   ],
   "source": [
    "spark.sql(\"USE CATALOG workspace\")\n",
    "spark.sql(\"USE SCHEMA default\")\n",
    "spark.sql(\"CREATE SCHEMA IF NOT EXISTS gold\")"
   ]
  },
  {
   "cell_type": "markdown",
   "metadata": {
    "application/vnd.databricks.v1+cell": {
     "cellMetadata": {
      "byteLimit": 2048000,
      "rowLimit": 10000
     },
     "inputWidgets": {},
     "nuid": "ef1270a1-64cb-4972-832e-0071b86e308f",
     "showTitle": false,
     "tableResultSettingsMap": {},
     "title": ""
    }
   },
   "source": [
    "## Gold: dim_customer\n",
    "**Purpose:** Create a curated customer dimension for joining with facts.  \n",
    "**Inputs:** `silver_customers`  \n",
    "**Output:** `gold.dim_customer`  \n",
    "\n",
    "**Key steps:**\n",
    "- Select only required attributes: `customer_id`, `customer_name`, `region`, `signup_date`  \n",
    "- Exclude rows with NULL `customer_id`  \n",
    "- Keep `signup_date` as STRING (no parsing applied yet)  \n",
    "\n",
    "**Why it matters:** Provides a consistent customer lookup table to enrich fact tables with descriptive attributes like name and region."
   ]
  },
  {
   "cell_type": "code",
   "execution_count": 0,
   "metadata": {
    "application/vnd.databricks.v1+cell": {
     "cellMetadata": {
      "byteLimit": 2048000,
      "rowLimit": 10000
     },
     "inputWidgets": {},
     "nuid": "6348696c-8931-466e-abc1-85226711d598",
     "showTitle": false,
     "tableResultSettingsMap": {},
     "title": ""
    }
   },
   "outputs": [
    {
     "output_type": "execute_result",
     "data": {
      "text/plain": [
       "DataFrame[num_affected_rows: bigint, num_inserted_rows: bigint]"
      ]
     },
     "execution_count": 168,
     "metadata": {},
     "output_type": "execute_result"
    }
   ],
   "source": [
    "spark.sql(\"\"\"\n",
    "CREATE OR REPLACE TABLE gold.dim_customer AS\n",
    "SELECT\n",
    "  customer_id,\n",
    "  customer_name,\n",
    "  region,\n",
    "  signup_date   -- kept as string per Silver\n",
    "FROM silver_customers\n",
    "WHERE customer_id IS NOT NULL\n",
    "\"\"\")"
   ]
  },
  {
   "cell_type": "markdown",
   "metadata": {
    "application/vnd.databricks.v1+cell": {
     "cellMetadata": {
      "byteLimit": 2048000,
      "rowLimit": 10000
     },
     "inputWidgets": {},
     "nuid": "d671cdd1-777a-4518-9f81-093313698f06",
     "showTitle": false,
     "tableResultSettingsMap": {},
     "title": ""
    }
   },
   "source": [
    "## Gold: dim_product\n",
    "**Purpose:** Build the product dimension for enriching sales facts with descriptive attributes.  \n",
    "**Inputs:** `silver_products`  \n",
    "**Output:** `gold.dim_product`  \n",
    "\n",
    "**Key steps:**\n",
    "- Select `product_id`, `product_name`, `category`, `list_price`  \n",
    "- Exclude rows with NULL `product_id`  \n",
    "\n",
    "**Why it matters:** Serves as a standardized product lookup table, enabling reporting by product name or category and supporting revenue analysis by product hierarchy."
   ]
  },
  {
   "cell_type": "code",
   "execution_count": 0,
   "metadata": {
    "application/vnd.databricks.v1+cell": {
     "cellMetadata": {
      "byteLimit": 2048000,
      "rowLimit": 10000
     },
     "inputWidgets": {},
     "nuid": "85e9b187-48d0-4205-bf35-1d41e708be01",
     "showTitle": false,
     "tableResultSettingsMap": {},
     "title": ""
    }
   },
   "outputs": [
    {
     "output_type": "execute_result",
     "data": {
      "text/plain": [
       "DataFrame[num_affected_rows: bigint, num_inserted_rows: bigint]"
      ]
     },
     "execution_count": 169,
     "metadata": {},
     "output_type": "execute_result"
    }
   ],
   "source": [
    "spark.sql(\"\"\"\n",
    "CREATE OR REPLACE TABLE gold.dim_product AS\n",
    "SELECT\n",
    "  product_id,\n",
    "  product_name,\n",
    "  category,\n",
    "  list_price\n",
    "FROM silver_products\n",
    "WHERE product_id IS NOT NULL\n",
    "\"\"\")"
   ]
  },
  {
   "cell_type": "markdown",
   "metadata": {
    "application/vnd.databricks.v1+cell": {
     "cellMetadata": {
      "byteLimit": 2048000,
      "rowLimit": 10000
     },
     "inputWidgets": {},
     "nuid": "41c0e7bd-bfc5-458e-8e96-84fd2a942af2",
     "showTitle": false,
     "tableResultSettingsMap": {},
     "title": ""
    }
   },
   "source": [
    "## Gold: fact_order_item & fact_daily_sales\n",
    "**Purpose:** Create the central fact tables that capture sales at the line-item level and the daily aggregate level.  \n",
    "**Inputs:** `silver_order_items`, `silver_orders`, `silver_products`, `silver_customers`  \n",
    "**Outputs:** \n",
    "- `gold.fact_order_item` (order-line grain fact)  \n",
    "- `gold.fact_daily_sales` (daily-grain aggregate fact)  \n",
    "\n",
    "**Key steps:**\n",
    "1. Force `order_date` to STRING, then safely parse into `order_date_parsed` by handling multiple formats (ISO, US, EU).  \n",
    "2. Join orders, order_items, products, and customers into a single fact table.  \n",
    "3. Select key fields: IDs, raw & parsed dates, quantity, unit_price, and derived `line_amount`.  \n",
    "4. Write `fact_order_item` to Gold as a Delta table.  \n",
    "5. Build `fact_daily_sales` by grouping on `order_date_parsed` and calculating:  \n",
    "   - Orders count (`orders_cnt`)  \n",
    "   - Items count (`items_cnt`)  \n",
    "   - Total revenue (`revenue`)  \n",
    "   - Distinct customers (`distinct_customers`)  \n",
    "   - Average order value (`aov = revenue / orders_cnt`)  \n",
    "\n",
    "**Why it matters:**  \n",
    "This fact structure enables answering key business questions like:  \n",
    "- *What is our daily revenue trend?*  \n",
    "- *Who are the top customers by spend?*  \n",
    "- *Which product categories generate the most sales?*  "
   ]
  },
  {
   "cell_type": "code",
   "execution_count": 0,
   "metadata": {
    "application/vnd.databricks.v1+cell": {
     "cellMetadata": {
      "byteLimit": 2048000,
      "rowLimit": 10000
     },
     "inputWidgets": {},
     "nuid": "4d4fbcd0-c26f-4afa-912e-f0abb4b0b36d",
     "showTitle": false,
     "tableResultSettingsMap": {},
     "title": ""
    }
   },
   "outputs": [
    {
     "output_type": "display_data",
     "data": {
      "text/html": [
       "<style scoped>\n",
       "  .table-result-container {\n",
       "    max-height: 300px;\n",
       "    overflow: auto;\n",
       "  }\n",
       "  table, th, td {\n",
       "    border: 1px solid black;\n",
       "    border-collapse: collapse;\n",
       "  }\n",
       "  th, td {\n",
       "    padding: 5px;\n",
       "  }\n",
       "  th {\n",
       "    text-align: left;\n",
       "  }\n",
       "</style><div class='table-result-container'><table class='table-result'><thead style='background-color: white'><tr><th>order_item_id</th><th>order_id</th><th>customer_id</th><th>product_id</th><th>order_date_raw</th><th>order_date_parsed</th><th>quantity</th><th>unit_price</th><th>line_amount</th></tr></thead><tbody><tr><td>94</td><td>36</td><td>29</td><td>6</td><td>2025-07-10</td><td>2025-07-10</td><td>1</td><td>20.73</td><td>20.73</td></tr><tr><td>29</td><td>14</td><td>28</td><td>19</td><td>2025-07-23</td><td>2025-07-23</td><td>1</td><td>424.51</td><td>424.51</td></tr><tr><td>284</td><td>107</td><td>16</td><td>2</td><td>2024-10-08</td><td>2024-10-08</td><td>4</td><td>141.14</td><td>564.56</td></tr><tr><td>88</td><td>34</td><td>23</td><td>2</td><td>03/11/2024</td><td>2024-03-11</td><td>5</td><td>141.14</td><td>705.6999999999999</td></tr><tr><td>131</td><td>51</td><td>24</td><td>2</td><td>07/19/2025</td><td>2025-07-19</td><td>4</td><td>141.14</td><td>564.56</td></tr><tr><td>279</td><td>104</td><td>29</td><td>14</td><td>2024-06-11</td><td>2024-06-11</td><td>3</td><td>84.03</td><td>252.09</td></tr><tr><td>190</td><td>73</td><td>37</td><td>16</td><td>2024-07-13</td><td>2024-07-13</td><td>1</td><td>111.58</td><td>111.58</td></tr><tr><td>195</td><td>75</td><td>34</td><td>14</td><td>2025-07-05</td><td>2025-07-05</td><td>2</td><td>84.03</td><td>168.06</td></tr><tr><td>56</td><td>23</td><td>26</td><td>7</td><td>2024/05/02</td><td>null</td><td>3</td><td>113.23</td><td>339.69</td></tr><tr><td>172</td><td>67</td><td>26</td><td>18</td><td>2025-07-03</td><td>2025-07-03</td><td>2</td><td>193.06</td><td>386.12</td></tr></tbody></table></div>"
      ]
     },
     "metadata": {
      "application/vnd.databricks.v1+output": {
       "addedWidgets": {},
       "aggData": [],
       "aggError": "",
       "aggOverflow": false,
       "aggSchema": [],
       "aggSeriesLimitReached": false,
       "aggType": "",
       "arguments": {},
       "columnCustomDisplayInfos": {},
       "data": [
        [
         94,
         36,
         29,
         6,
         "2025-07-10",
         "2025-07-10",
         1,
         20.73,
         20.73
        ],
        [
         29,
         14,
         28,
         19,
         "2025-07-23",
         "2025-07-23",
         1,
         424.51,
         424.51
        ],
        [
         284,
         107,
         16,
         2,
         "2024-10-08",
         "2024-10-08",
         4,
         141.14,
         564.56
        ],
        [
         88,
         34,
         23,
         2,
         "03/11/2024",
         "2024-03-11",
         5,
         141.14,
         705.6999999999999
        ],
        [
         131,
         51,
         24,
         2,
         "07/19/2025",
         "2025-07-19",
         4,
         141.14,
         564.56
        ],
        [
         279,
         104,
         29,
         14,
         "2024-06-11",
         "2024-06-11",
         3,
         84.03,
         252.09
        ],
        [
         190,
         73,
         37,
         16,
         "2024-07-13",
         "2024-07-13",
         1,
         111.58,
         111.58
        ],
        [
         195,
         75,
         34,
         14,
         "2025-07-05",
         "2025-07-05",
         2,
         84.03,
         168.06
        ],
        [
         56,
         23,
         26,
         7,
         "2024/05/02",
         null,
         3,
         113.23,
         339.69
        ],
        [
         172,
         67,
         26,
         18,
         "2025-07-03",
         "2025-07-03",
         2,
         193.06,
         386.12
        ]
       ],
       "datasetInfos": [],
       "dbfsResultPath": null,
       "isJsonSchema": true,
       "metadata": {},
       "overflow": false,
       "plotOptions": {
        "customPlotOptions": {},
        "displayType": "table",
        "pivotAggregation": null,
        "pivotColumns": null,
        "xColumns": null,
        "yColumns": null
       },
       "removedWidgets": [],
       "schema": [
        {
         "metadata": "{}",
         "name": "order_item_id",
         "type": "\"integer\""
        },
        {
         "metadata": "{}",
         "name": "order_id",
         "type": "\"integer\""
        },
        {
         "metadata": "{}",
         "name": "customer_id",
         "type": "\"integer\""
        },
        {
         "metadata": "{}",
         "name": "product_id",
         "type": "\"integer\""
        },
        {
         "metadata": "{}",
         "name": "order_date_raw",
         "type": "\"string\""
        },
        {
         "metadata": "{}",
         "name": "order_date_parsed",
         "type": "\"date\""
        },
        {
         "metadata": "{}",
         "name": "quantity",
         "type": "\"integer\""
        },
        {
         "metadata": "{}",
         "name": "unit_price",
         "type": "\"double\""
        },
        {
         "metadata": "{}",
         "name": "line_amount",
         "type": "\"double\""
        }
       ],
       "type": "table"
      }
     },
     "output_type": "display_data"
    },
    {
     "output_type": "display_data",
     "data": {
      "text/html": [
       "<style scoped>\n",
       "  .table-result-container {\n",
       "    max-height: 300px;\n",
       "    overflow: auto;\n",
       "  }\n",
       "  table, th, td {\n",
       "    border: 1px solid black;\n",
       "    border-collapse: collapse;\n",
       "  }\n",
       "  th, td {\n",
       "    padding: 5px;\n",
       "  }\n",
       "  th {\n",
       "    text-align: left;\n",
       "  }\n",
       "</style><div class='table-result-container'><table class='table-result'><thead style='background-color: white'><tr><th>order_date_parsed</th><th>orders_cnt</th><th>items_cnt</th><th>revenue</th><th>distinct_customers</th><th>aov</th></tr></thead><tbody><tr><td>2024-01-01</td><td>1</td><td>1</td><td>96.06</td><td>1</td><td>96.06</td></tr><tr><td>2024-01-03</td><td>1</td><td>2</td><td>1850.16</td><td>1</td><td>1850.16</td></tr><tr><td>2024-01-06</td><td>1</td><td>1</td><td>173.42</td><td>1</td><td>173.42</td></tr><tr><td>2024-01-16</td><td>1</td><td>2</td><td>809.52</td><td>1</td><td>809.52</td></tr><tr><td>2024-02-10</td><td>1</td><td>3</td><td>943.24</td><td>1</td><td>943.24</td></tr><tr><td>2024-02-21</td><td>1</td><td>3</td><td>1342.96</td><td>1</td><td>1342.96</td></tr><tr><td>2024-02-22</td><td>1</td><td>2</td><td>213.79</td><td>1</td><td>213.79</td></tr><tr><td>2024-02-28</td><td>1</td><td>4</td><td>3432.5400000000004</td><td>1</td><td>3432.54</td></tr><tr><td>2024-02-29</td><td>1</td><td>2</td><td>1353.8600000000001</td><td>1</td><td>1353.86</td></tr><tr><td>2024-03-01</td><td>1</td><td>2</td><td>258.91</td><td>1</td><td>258.91</td></tr><tr><td>2024-03-03</td><td>2</td><td>3</td><td>949.7700000000001</td><td>2</td><td>474.89</td></tr><tr><td>2024-03-10</td><td>1</td><td>3</td><td>4242.59</td><td>1</td><td>4242.59</td></tr><tr><td>2024-03-11</td><td>1</td><td>2</td><td>809.1199999999999</td><td>1</td><td>809.12</td></tr><tr><td>2024-03-15</td><td>2</td><td>4</td><td>3247.08</td><td>2</td><td>1623.54</td></tr><tr><td>2024-03-18</td><td>1</td><td>4</td><td>1618.66</td><td>1</td><td>1618.66</td></tr><tr><td>2024-03-23</td><td>1</td><td>2</td><td>353.38</td><td>1</td><td>353.38</td></tr><tr><td>2024-04-10</td><td>1</td><td>3</td><td>1020.25</td><td>1</td><td>1020.25</td></tr><tr><td>2024-04-20</td><td>1</td><td>3</td><td>1865.44</td><td>1</td><td>1865.44</td></tr><tr><td>2024-04-21</td><td>1</td><td>4</td><td>2314.1400000000003</td><td>1</td><td>2314.14</td></tr><tr><td>2024-04-24</td><td>1</td><td>3</td><td>3448.2200000000003</td><td>1</td><td>3448.22</td></tr></tbody></table></div>"
      ]
     },
     "metadata": {
      "application/vnd.databricks.v1+output": {
       "addedWidgets": {},
       "aggData": [],
       "aggError": "",
       "aggOverflow": false,
       "aggSchema": [],
       "aggSeriesLimitReached": false,
       "aggType": "",
       "arguments": {},
       "columnCustomDisplayInfos": {},
       "data": [
        [
         "2024-01-01",
         1,
         1,
         96.06,
         1,
         96.06
        ],
        [
         "2024-01-03",
         1,
         2,
         1850.16,
         1,
         1850.16
        ],
        [
         "2024-01-06",
         1,
         1,
         173.42,
         1,
         173.42
        ],
        [
         "2024-01-16",
         1,
         2,
         809.52,
         1,
         809.52
        ],
        [
         "2024-02-10",
         1,
         3,
         943.24,
         1,
         943.24
        ],
        [
         "2024-02-21",
         1,
         3,
         1342.96,
         1,
         1342.96
        ],
        [
         "2024-02-22",
         1,
         2,
         213.79,
         1,
         213.79
        ],
        [
         "2024-02-28",
         1,
         4,
         3432.5400000000004,
         1,
         3432.54
        ],
        [
         "2024-02-29",
         1,
         2,
         1353.8600000000001,
         1,
         1353.86
        ],
        [
         "2024-03-01",
         1,
         2,
         258.91,
         1,
         258.91
        ],
        [
         "2024-03-03",
         2,
         3,
         949.7700000000001,
         2,
         474.89
        ],
        [
         "2024-03-10",
         1,
         3,
         4242.59,
         1,
         4242.59
        ],
        [
         "2024-03-11",
         1,
         2,
         809.1199999999999,
         1,
         809.12
        ],
        [
         "2024-03-15",
         2,
         4,
         3247.08,
         2,
         1623.54
        ],
        [
         "2024-03-18",
         1,
         4,
         1618.66,
         1,
         1618.66
        ],
        [
         "2024-03-23",
         1,
         2,
         353.38,
         1,
         353.38
        ],
        [
         "2024-04-10",
         1,
         3,
         1020.25,
         1,
         1020.25
        ],
        [
         "2024-04-20",
         1,
         3,
         1865.44,
         1,
         1865.44
        ],
        [
         "2024-04-21",
         1,
         4,
         2314.1400000000003,
         1,
         2314.14
        ],
        [
         "2024-04-24",
         1,
         3,
         3448.2200000000003,
         1,
         3448.22
        ]
       ],
       "datasetInfos": [],
       "dbfsResultPath": null,
       "isJsonSchema": true,
       "metadata": {},
       "overflow": false,
       "plotOptions": {
        "customPlotOptions": {},
        "displayType": "table",
        "pivotAggregation": null,
        "pivotColumns": null,
        "xColumns": null,
        "yColumns": null
       },
       "removedWidgets": [],
       "schema": [
        {
         "metadata": "{}",
         "name": "order_date_parsed",
         "type": "\"date\""
        },
        {
         "metadata": "{}",
         "name": "orders_cnt",
         "type": "\"long\""
        },
        {
         "metadata": "{}",
         "name": "items_cnt",
         "type": "\"long\""
        },
        {
         "metadata": "{}",
         "name": "revenue",
         "type": "\"double\""
        },
        {
         "metadata": "{}",
         "name": "distinct_customers",
         "type": "\"long\""
        },
        {
         "metadata": "{}",
         "name": "aov",
         "type": "\"double\""
        }
       ],
       "type": "table"
      }
     },
     "output_type": "display_data"
    }
   ],
   "source": [
    "from pyspark.sql import functions as F\n",
    "\n",
    "spark.sql(\"USE CATALOG workspace\")\n",
    "spark.sql(\"USE SCHEMA default\")\n",
    "spark.sql(\"DROP TABLE IF EXISTS gold.fact_daily_sales\")\n",
    "\n",
    "# 1) Load Silver tables\n",
    "i = spark.table(\"silver_order_items\")\n",
    "o = spark.table(\"silver_orders\")\n",
    "p = spark.table(\"silver_products\")\n",
    "c = spark.table(\"silver_customers\")\n",
    "\n",
    "# 2) Force order_date to STRING (avoids hidden types) and trim\n",
    "o = o.withColumn(\"order_date\", F.trim(F.col(\"order_date\").cast(\"string\")))\n",
    "\n",
    "# 3) Safe parse: only call to_date when the string matches a known pattern\n",
    "#    - ISO: YYYY-MM-DD\n",
    "#    - US:   MM/DD/YYYY\n",
    "#    - EU:   DD/MM/YYYY\n",
    "o2 = (\n",
    "    o.withColumn(\n",
    "        \"order_date_parsed\",\n",
    "        F.when(F.col(\"order_date\").rlike(r'^\\d{4}-\\d{2}-\\d{2}$'),\n",
    "               F.to_date(F.col(\"order_date\"), \"yyyy-MM-dd\"))\n",
    "         .when(F.col(\"order_date\").rlike(r'^\\d{2}/\\d{2}/\\d{4}$') & F.col(\"order_date\").substr(1,2).rlike(r'^(0[1-9]|1[0-2])$'),\n",
    "               # If month-first (MM/DD/YYYY): parse as US\n",
    "               F.to_date(F.col(\"order_date\"), \"MM/dd/yyyy\"))\n",
    "         .when(F.col(\"order_date\").rlike(r'^\\d{2}/\\d{2}/\\d{4}$'),\n",
    "               # Otherwise treat as DD/MM/YYYY\n",
    "               F.to_date(F.col(\"order_date\"), \"dd/MM/yyyy\"))\n",
    "         .otherwise(F.lit(None).cast(\"date\"))\n",
    "    )\n",
    ")\n",
    "\n",
    "# 4) Build fact_order_item from PySpark \n",
    "fact = (\n",
    "    i.join(o2, \"order_id\", \"inner\")\n",
    "     .join(p,  \"product_id\", \"inner\")\n",
    "     .join(c,  \"customer_id\", \"inner\")\n",
    "     .select(\n",
    "         i.order_item_id,\n",
    "         i.order_id,\n",
    "         o2.customer_id,\n",
    "         i.product_id,\n",
    "         o2.order_date.alias(\"order_date_raw\"),\n",
    "         o2.order_date_parsed,\n",
    "         i.quantity,\n",
    "         i.unit_price,\n",
    "         (i.quantity * i.unit_price).alias(\"line_amount\")\n",
    "     )\n",
    ")\n",
    "\n",
    "# 5) Write to a new gold table \n",
    "(fact.write\n",
    "     .mode(\"overwrite\")\n",
    "     .option(\"overwriteSchema\",\"true\")\n",
    "     .format(\"delta\")\n",
    "     .saveAsTable(\"gold.fact_order_item\"))\n",
    "\n",
    "# 6) Build daily aggregate \n",
    "f = spark.table(\"gold.fact_order_item\")\n",
    "daily = (\n",
    "    f.where(F.col(\"order_date_parsed\").isNotNull())\n",
    "     .groupBy(\"order_date_parsed\")\n",
    "     .agg(\n",
    "         F.countDistinct(\"order_id\").alias(\"orders_cnt\"),\n",
    "         F.count(\"*\").alias(\"items_cnt\"),\n",
    "         F.sum(\"line_amount\").alias(\"revenue\"),\n",
    "         F.countDistinct(\"customer_id\").alias(\"distinct_customers\")\n",
    "     )\n",
    "     .withColumn(\"aov\", F.round(F.col(\"revenue\") / F.when(F.col(\"orders_cnt\") != 0, F.col(\"orders_cnt\")), 2))\n",
    ")\n",
    "\n",
    "(daily.write\n",
    "     .mode(\"overwrite\")\n",
    "     .option(\"overwriteSchema\",\"true\")\n",
    "     .format(\"delta\")\n",
    "     .saveAsTable(\"gold.fact_daily_sales\"))\n",
    "\n",
    "# 7) Inspect results\n",
    "display(spark.table(\"gold.fact_order_item\").limit(10))\n",
    "display(spark.table(\"gold.fact_daily_sales\").orderBy(\"order_date_parsed\").limit(20))\n"
   ]
  },
  {
   "cell_type": "markdown",
   "metadata": {
    "application/vnd.databricks.v1+cell": {
     "cellMetadata": {
      "byteLimit": 2048000,
      "rowLimit": 10000
     },
     "inputWidgets": {},
     "nuid": "4ba07318-a74d-41a6-b515-e5a0c1ad9a3c",
     "showTitle": false,
     "tableResultSettingsMap": {},
     "title": ""
    }
   },
   "source": [
    "# \uD83D\uDCCA KPIs & Quick Dashboard\n",
    "With Gold fact and dimension tables in place, we can now run business-facing queries.  \n",
    "These KPIs demonstrate the value of the Medallion pipeline: turning raw CSVs into actionable insights.  \n",
    "Results from these queries can also be exported into BI tools (Power BI, Looker Studio) for visualization dashboards."
   ]
  },
  {
   "cell_type": "markdown",
   "metadata": {
    "application/vnd.databricks.v1+cell": {
     "cellMetadata": {
      "byteLimit": 2048000,
      "rowLimit": 10000
     },
     "inputWidgets": {},
     "nuid": "b7f8575c-9de8-46a5-b650-a154e9aeb025",
     "showTitle": false,
     "tableResultSettingsMap": {},
     "title": ""
    }
   },
   "source": [
    "## KPI: Top 10 Customers by Revenue\n",
    "**Purpose:** Identify which customers contribute the most to total sales.  \n",
    "**Inputs:** `gold.fact_order_item`, `gold.dim_customer`  \n",
    "**Output:** Ranked list of top 10 customers by total revenue.  \n",
    "\n",
    "**Why it matters:** Provides visibility into high-value customers and supports customer segmentation or loyalty strategies."
   ]
  },
  {
   "cell_type": "code",
   "execution_count": 0,
   "metadata": {
    "application/vnd.databricks.v1+cell": {
     "cellMetadata": {
      "byteLimit": 2048000,
      "implicitDf": true,
      "rowLimit": 10000
     },
     "inputWidgets": {},
     "nuid": "eadc3f18-638f-415f-b13d-683d71969a7f",
     "showTitle": false,
     "tableResultSettingsMap": {},
     "title": ""
    }
   },
   "outputs": [
    {
     "output_type": "display_data",
     "data": {
      "text/html": [
       "<style scoped>\n",
       "  .table-result-container {\n",
       "    max-height: 300px;\n",
       "    overflow: auto;\n",
       "  }\n",
       "  table, th, td {\n",
       "    border: 1px solid black;\n",
       "    border-collapse: collapse;\n",
       "  }\n",
       "  th, td {\n",
       "    padding: 5px;\n",
       "  }\n",
       "  th {\n",
       "    text-align: left;\n",
       "  }\n",
       "</style><div class='table-result-container'><table class='table-result'><thead style='background-color: white'><tr><th>customer_id</th><th>customer_name</th><th>revenue</th></tr></thead><tbody><tr><td>16</td><td>Liam Davis</td><td>10584.52</td></tr><tr><td>7</td><td>zoe singh</td><td>9188.6</td></tr><tr><td>6</td><td>Aria Wilson</td><td>8114.65</td></tr><tr><td>18</td><td>Mia Hernandez</td><td>7330.56</td></tr><tr><td>21</td><td>aarav thompson</td><td>6913.42</td></tr><tr><td>24</td><td>Ethan Nguyen</td><td>6908.64</td></tr><tr><td>29</td><td>Ava Davis</td><td>6603.07</td></tr><tr><td>11</td><td>Ethan Singh</td><td>6105.44</td></tr><tr><td>27</td><td>Charlotte Hernandez</td><td>5839.05</td></tr><tr><td>10</td><td>Amelia Garcia</td><td>5824.43</td></tr></tbody></table></div>"
      ]
     },
     "metadata": {
      "application/vnd.databricks.v1+output": {
       "addedWidgets": {},
       "aggData": [],
       "aggError": "",
       "aggOverflow": false,
       "aggSchema": [],
       "aggSeriesLimitReached": false,
       "aggType": "",
       "arguments": {},
       "columnCustomDisplayInfos": {},
       "data": [
        [
         16,
         "Liam Davis",
         10584.52
        ],
        [
         7,
         "zoe singh",
         9188.6
        ],
        [
         6,
         "Aria Wilson",
         8114.65
        ],
        [
         18,
         "Mia Hernandez",
         7330.56
        ],
        [
         21,
         "aarav thompson",
         6913.42
        ],
        [
         24,
         "Ethan Nguyen",
         6908.64
        ],
        [
         29,
         "Ava Davis",
         6603.07
        ],
        [
         11,
         "Ethan Singh",
         6105.44
        ],
        [
         27,
         "Charlotte Hernandez",
         5839.05
        ],
        [
         10,
         "Amelia Garcia",
         5824.43
        ]
       ],
       "datasetInfos": [
        {
         "name": "_sqldf",
         "schema": {
          "fields": [
           {
            "metadata": {
             "__metadata_col": "customer_id"
            },
            "name": "customer_id",
            "nullable": true,
            "type": "integer"
           },
           {
            "metadata": {},
            "name": "customer_name",
            "nullable": true,
            "type": "string"
           },
           {
            "metadata": {},
            "name": "revenue",
            "nullable": true,
            "type": "double"
           }
          ],
          "type": "struct"
         },
         "tableIdentifier": null,
         "typeStr": "pyspark.sql.connect.dataframe.DataFrame"
        }
       ],
       "dbfsResultPath": null,
       "isJsonSchema": true,
       "metadata": {
        "createTempViewForImplicitDf": true,
        "dataframeName": "_sqldf",
        "executionCount": 171
       },
       "overflow": false,
       "plotOptions": {
        "customPlotOptions": {},
        "displayType": "table",
        "pivotAggregation": null,
        "pivotColumns": null,
        "xColumns": null,
        "yColumns": null
       },
       "removedWidgets": [],
       "schema": [
        {
         "metadata": "{\"__metadata_col\": \"customer_id\"}",
         "name": "customer_id",
         "type": "\"integer\""
        },
        {
         "metadata": "{}",
         "name": "customer_name",
         "type": "\"string\""
        },
        {
         "metadata": "{}",
         "name": "revenue",
         "type": "\"double\""
        }
       ],
       "type": "table"
      }
     },
     "output_type": "display_data"
    }
   ],
   "source": [
    "%sql\n",
    "-- Top 10 customers by revenue\n",
    "SELECT c.customer_id, c.customer_name, ROUND(SUM(f.line_amount),2) AS revenue\n",
    "FROM gold.fact_order_item f\n",
    "JOIN gold.dim_customer c USING (customer_id)\n",
    "GROUP BY c.customer_id, c.customer_name\n",
    "ORDER BY revenue DESC\n",
    "LIMIT 10;"
   ]
  },
  {
   "cell_type": "markdown",
   "metadata": {
    "application/vnd.databricks.v1+cell": {
     "cellMetadata": {
      "byteLimit": 2048000,
      "rowLimit": 10000
     },
     "inputWidgets": {},
     "nuid": "497026de-d26a-4396-a2d0-45d8f903e75a",
     "showTitle": false,
     "tableResultSettingsMap": {},
     "title": ""
    }
   },
   "source": [
    "## KPI: Revenue by Product Category\n",
    "**Purpose:** Show how sales are distributed across product categories.  \n",
    "**Inputs:** `gold.fact_order_item`, `gold.dim_product`  \n",
    "**Output:** Aggregated revenue per product category, sorted highest to lowest.  \n",
    "\n",
    "**Why it matters:** Highlights which categories drive the most revenue, supporting decisions on inventory, promotions, and strategic focus."
   ]
  },
  {
   "cell_type": "code",
   "execution_count": 0,
   "metadata": {
    "application/vnd.databricks.v1+cell": {
     "cellMetadata": {
      "byteLimit": 2048000,
      "implicitDf": true,
      "rowLimit": 10000
     },
     "inputWidgets": {},
     "nuid": "19028137-34ed-4d33-90e1-6596254b9631",
     "showTitle": false,
     "tableResultSettingsMap": {},
     "title": ""
    }
   },
   "outputs": [
    {
     "output_type": "display_data",
     "data": {
      "text/html": [
       "<style scoped>\n",
       "  .table-result-container {\n",
       "    max-height: 300px;\n",
       "    overflow: auto;\n",
       "  }\n",
       "  table, th, td {\n",
       "    border: 1px solid black;\n",
       "    border-collapse: collapse;\n",
       "  }\n",
       "  th, td {\n",
       "    padding: 5px;\n",
       "  }\n",
       "  th {\n",
       "    text-align: left;\n",
       "  }\n",
       "</style><div class='table-result-container'><table class='table-result'><thead style='background-color: white'><tr><th>category</th><th>revenue</th></tr></thead><tbody><tr><td>CLOTHING</td><td>43233.93</td></tr><tr><td>ELECTRONICS</td><td>40590.67</td></tr><tr><td>BOOKS</td><td>31533.95</td></tr><tr><td>SPORTS</td><td>22044.79</td></tr><tr><td>TOYS</td><td>14204.81</td></tr><tr><td>BEAUTY</td><td>7038.58</td></tr><tr><td>HOME & KITCHEN</td><td>6269.84</td></tr></tbody></table></div>"
      ]
     },
     "metadata": {
      "application/vnd.databricks.v1+output": {
       "addedWidgets": {},
       "aggData": [],
       "aggError": "",
       "aggOverflow": false,
       "aggSchema": [],
       "aggSeriesLimitReached": false,
       "aggType": "",
       "arguments": {},
       "columnCustomDisplayInfos": {},
       "data": [
        [
         "CLOTHING",
         43233.93
        ],
        [
         "ELECTRONICS",
         40590.67
        ],
        [
         "BOOKS",
         31533.95
        ],
        [
         "SPORTS",
         22044.79
        ],
        [
         "TOYS",
         14204.81
        ],
        [
         "BEAUTY",
         7038.58
        ],
        [
         "HOME & KITCHEN",
         6269.84
        ]
       ],
       "datasetInfos": [
        {
         "name": "_sqldf",
         "schema": {
          "fields": [
           {
            "metadata": {},
            "name": "category",
            "nullable": true,
            "type": "string"
           },
           {
            "metadata": {},
            "name": "revenue",
            "nullable": true,
            "type": "double"
           }
          ],
          "type": "struct"
         },
         "tableIdentifier": null,
         "typeStr": "pyspark.sql.connect.dataframe.DataFrame"
        }
       ],
       "dbfsResultPath": null,
       "isJsonSchema": true,
       "metadata": {
        "createTempViewForImplicitDf": true,
        "dataframeName": "_sqldf",
        "executionCount": 172
       },
       "overflow": false,
       "plotOptions": {
        "customPlotOptions": {},
        "displayType": "table",
        "pivotAggregation": null,
        "pivotColumns": null,
        "xColumns": null,
        "yColumns": null
       },
       "removedWidgets": [],
       "schema": [
        {
         "metadata": "{}",
         "name": "category",
         "type": "\"string\""
        },
        {
         "metadata": "{}",
         "name": "revenue",
         "type": "\"double\""
        }
       ],
       "type": "table"
      }
     },
     "output_type": "display_data"
    },
    {
     "output_type": "display_data",
     "data": {
      "text/plain": [
       "Databricks visualization. Run in Databricks to view."
      ]
     },
     "metadata": {
      "application/vnd.databricks.v1.subcommand+json": {
       "baseErrorDetails": null,
       "bindings": {},
       "collapsed": false,
       "command": "%sql WITH q AS (SELECT p.category, ROUND(SUM(f.line_amount),2) AS revenue\nFROM gold.fact_order_item f\nJOIN gold.dim_product p USING (product_id)\nGROUP BY p.category\nORDER BY revenue DESC) SELECT `category`,SUM(`revenue`) `column_ce3a62ed150` FROM q GROUP BY `category`",
       "commandTitle": "Visualization 1",
       "commandType": "auto",
       "commandVersion": 0,
       "commentThread": [],
       "commentsVisible": false,
       "contentSha256Hex": null,
       "customPlotOptions": {
        "redashChart": [
         {
          "key": "type",
          "value": "CHART"
         },
         {
          "key": "options",
          "value": {
           "alignYAxesAtZero": true,
           "coefficient": 1,
           "columnConfigurationMap": {
            "x": {
             "column": "category",
             "id": "column_ce3a62ed149"
            },
            "y": [
             {
              "column": "revenue",
              "id": "column_ce3a62ed150",
              "transform": "SUM"
             }
            ]
           },
           "dateTimeFormat": "DD/MM/YYYY HH:mm",
           "direction": {
            "type": "counterclockwise"
           },
           "error_y": {
            "type": "data",
            "visible": true
           },
           "globalSeriesType": "column",
           "legend": {
            "traceorder": "normal"
           },
           "missingValuesAsZero": true,
           "numberFormat": "0,0.[00000]",
           "percentFormat": "0[.]00%",
           "series": {
            "error_y": {
             "type": "data",
             "visible": true
            },
            "stacking": null
           },
           "seriesOptions": {
            "column_ce3a62ed150": {
             "name": "revenue",
             "yAxis": 0
            }
           },
           "showDataLabels": false,
           "sizemode": "diameter",
           "sortX": true,
           "sortY": true,
           "swappedAxes": true,
           "textFormat": "",
           "useAggregationsUi": true,
           "valuesOptions": {},
           "version": 2,
           "xAxis": {
            "labels": {
             "enabled": true
            },
            "type": "-"
           },
           "yAxis": [
            {
             "type": "-"
            },
            {
             "opposite": true,
             "type": "-"
            }
           ]
          }
         }
        ]
       },
       "datasetPreviewNameToCmdIdMap": {},
       "diffDeletes": [],
       "diffInserts": [],
       "displayType": "redashChart",
       "error": null,
       "errorDetails": null,
       "errorSummary": null,
       "errorTraceType": null,
       "finishTime": 0,
       "globalVars": {},
       "guid": "",
       "height": "auto",
       "hideCommandCode": false,
       "hideCommandResult": false,
       "iPythonMetadata": null,
       "inputWidgets": {},
       "isLockedInExamMode": false,
       "latestAssumeRoleInfo": null,
       "latestUser": "a user",
       "latestUserId": null,
       "listResultMetadata": null,
       "metadata": {},
       "nuid": "c4d713e5-f117-4e5f-997f-26342c13ce60",
       "origId": 0,
       "parentHierarchy": [],
       "pivotAggregation": null,
       "pivotColumns": null,
       "position": 14.0,
       "resultDbfsErrorMessage": null,
       "resultDbfsStatus": "INLINED_IN_TREE",
       "results": null,
       "showCommandTitle": false,
       "startTime": 0,
       "state": "input",
       "streamStates": {},
       "subcommandOptions": {
        "queryPlan": {
         "groups": [
          {
           "column": "category",
           "type": "column"
          }
         ],
         "selects": [
          {
           "column": "category",
           "type": "column"
          },
          {
           "alias": "column_ce3a62ed150",
           "args": [
            {
             "column": "revenue",
             "type": "column"
            }
           ],
           "function": "SUM",
           "type": "function"
          }
         ]
        }
       },
       "submitTime": 0,
       "subtype": "tableResultSubCmd.visualization",
       "tableResultIndex": 0,
       "tableResultSettingsMap": {},
       "useConsistentColors": false,
       "version": "CommandV1",
       "width": "auto",
       "workflows": [],
       "xColumns": null,
       "yColumns": null
      }
     },
     "output_type": "display_data"
    }
   ],
   "source": [
    "%sql\n",
    "-- Revenue by product category\n",
    "SELECT p.category, ROUND(SUM(f.line_amount),2) AS revenue\n",
    "FROM gold.fact_order_item f\n",
    "JOIN gold.dim_product p USING (product_id)\n",
    "GROUP BY p.category\n",
    "ORDER BY revenue DESC;"
   ]
  },
  {
   "cell_type": "markdown",
   "metadata": {
    "application/vnd.databricks.v1+cell": {
     "cellMetadata": {
      "byteLimit": 2048000,
      "rowLimit": 10000
     },
     "inputWidgets": {},
     "nuid": "837e4b1f-243d-4cc5-9776-ca04cf723fb6",
     "showTitle": false,
     "tableResultSettingsMap": {},
     "title": ""
    }
   },
   "source": [
    "## Export Gold Data for Dashboarding\n",
    "**Purpose:** Make the curated Gold tables available outside Databricks for visualization in BI tools (e.g., Power BI, Looker Studio).  \n",
    "**Steps:**  \n",
    "- Select the target Gold table (`gold.fact_daily_sales` in this case).  \n",
    "- Use `display(df)` to preview results.  \n",
    "- Download the data as CSV directly from the notebook UI.  \n",
    "\n",
    "**Why it matters:** Provides a portable dataset for building quick dashboards and sharing business insights beyond Databricks."
   ]
  },
  {
   "cell_type": "code",
   "execution_count": 0,
   "metadata": {
    "application/vnd.databricks.v1+cell": {
     "cellMetadata": {
      "byteLimit": 2048000,
      "implicitDf": true,
      "rowLimit": 10000
     },
     "inputWidgets": {},
     "nuid": "38bdc909-3032-4ac9-a10c-d1d12e3f98a5",
     "showTitle": false,
     "tableResultSettingsMap": {},
     "title": ""
    }
   },
   "outputs": [
    {
     "output_type": "display_data",
     "data": {
      "text/html": [
       "<style scoped>\n",
       "  .table-result-container {\n",
       "    max-height: 300px;\n",
       "    overflow: auto;\n",
       "  }\n",
       "  table, th, td {\n",
       "    border: 1px solid black;\n",
       "    border-collapse: collapse;\n",
       "  }\n",
       "  th, td {\n",
       "    padding: 5px;\n",
       "  }\n",
       "  th {\n",
       "    text-align: left;\n",
       "  }\n",
       "</style><div class='table-result-container'><table class='table-result'><thead style='background-color: white'><tr><th>order_date_parsed</th><th>orders_cnt</th><th>items_cnt</th><th>revenue</th><th>distinct_customers</th><th>aov</th></tr></thead><tbody><tr><td>2024-11-04</td><td>1</td><td>2</td><td>564.49</td><td>1</td><td>564.49</td></tr><tr><td>2025-05-03</td><td>1</td><td>1</td><td>415.56</td><td>1</td><td>415.56</td></tr><tr><td>2024-03-10</td><td>1</td><td>3</td><td>4242.59</td><td>1</td><td>4242.59</td></tr><tr><td>2024-10-10</td><td>1</td><td>4</td><td>2540.6</td><td>1</td><td>2540.6</td></tr><tr><td>2024-03-03</td><td>2</td><td>3</td><td>949.7700000000001</td><td>2</td><td>474.89</td></tr><tr><td>2024-10-12</td><td>2</td><td>3</td><td>1073.26</td><td>2</td><td>536.63</td></tr><tr><td>2024-09-12</td><td>1</td><td>4</td><td>3904.7400000000002</td><td>1</td><td>3904.74</td></tr><tr><td>2024-07-16</td><td>1</td><td>1</td><td>772.24</td><td>1</td><td>772.24</td></tr><tr><td>2025-07-20</td><td>1</td><td>2</td><td>2249.38</td><td>1</td><td>2249.38</td></tr><tr><td>2024-04-21</td><td>1</td><td>4</td><td>2314.1400000000003</td><td>1</td><td>2314.14</td></tr><tr><td>2024-03-23</td><td>1</td><td>2</td><td>353.38</td><td>1</td><td>353.38</td></tr><tr><td>2025-03-28</td><td>1</td><td>3</td><td>2117.17</td><td>1</td><td>2117.17</td></tr><tr><td>2024-01-16</td><td>1</td><td>2</td><td>809.52</td><td>1</td><td>809.52</td></tr><tr><td>2024-04-24</td><td>1</td><td>3</td><td>3448.2200000000003</td><td>1</td><td>3448.22</td></tr><tr><td>2025-06-25</td><td>1</td><td>3</td><td>519.4399999999999</td><td>1</td><td>519.44</td></tr><tr><td>2025-07-30</td><td>1</td><td>3</td><td>2812.9100000000003</td><td>1</td><td>2812.91</td></tr><tr><td>2024-08-24</td><td>1</td><td>2</td><td>1758.02</td><td>1</td><td>1758.02</td></tr><tr><td>2024-11-25</td><td>1</td><td>2</td><td>1009.78</td><td>1</td><td>1009.78</td></tr><tr><td>2024-10-18</td><td>1</td><td>3</td><td>1892.8700000000001</td><td>1</td><td>1892.87</td></tr><tr><td>2024-09-28</td><td>2</td><td>7</td><td>4656.66</td><td>2</td><td>2328.33</td></tr><tr><td>2024-03-11</td><td>1</td><td>2</td><td>809.1199999999999</td><td>1</td><td>809.12</td></tr><tr><td>2025-02-21</td><td>1</td><td>2</td><td>599.9100000000001</td><td>1</td><td>599.91</td></tr><tr><td>2025-03-29</td><td>1</td><td>2</td><td>1066.06</td><td>1</td><td>1066.06</td></tr><tr><td>2025-07-05</td><td>2</td><td>5</td><td>2972.62</td><td>2</td><td>1486.31</td></tr><tr><td>2025-07-19</td><td>1</td><td>4</td><td>2589.41</td><td>1</td><td>2589.41</td></tr><tr><td>2024-11-02</td><td>1</td><td>1</td><td>96.06</td><td>1</td><td>96.06</td></tr><tr><td>2025-04-16</td><td>1</td><td>4</td><td>2577.75</td><td>1</td><td>2577.75</td></tr><tr><td>2025-03-17</td><td>1</td><td>4</td><td>2426.36</td><td>1</td><td>2426.36</td></tr><tr><td>2024-07-18</td><td>1</td><td>4</td><td>1520.3</td><td>1</td><td>1520.3</td></tr><tr><td>2024-03-01</td><td>1</td><td>2</td><td>258.91</td><td>1</td><td>258.91</td></tr><tr><td>2024-08-21</td><td>1</td><td>3</td><td>3146.9700000000003</td><td>1</td><td>3146.97</td></tr><tr><td>2024-02-28</td><td>1</td><td>4</td><td>3432.5400000000004</td><td>1</td><td>3432.54</td></tr><tr><td>2024-02-22</td><td>1</td><td>2</td><td>213.79</td><td>1</td><td>213.79</td></tr><tr><td>2024-05-16</td><td>1</td><td>4</td><td>1517.83</td><td>1</td><td>1517.83</td></tr><tr><td>2025-06-19</td><td>1</td><td>4</td><td>2200.46</td><td>1</td><td>2200.46</td></tr><tr><td>2024-11-13</td><td>1</td><td>3</td><td>1900.42</td><td>1</td><td>1900.42</td></tr><tr><td>2024-10-15</td><td>1</td><td>4</td><td>4841.14</td><td>1</td><td>4841.14</td></tr><tr><td>2025-06-17</td><td>1</td><td>1</td><td>200.37</td><td>1</td><td>200.37</td></tr><tr><td>2024-04-28</td><td>2</td><td>3</td><td>2451.8900000000003</td><td>2</td><td>1225.95</td></tr><tr><td>2025-02-13</td><td>1</td><td>2</td><td>1470.16</td><td>1</td><td>1470.16</td></tr><tr><td>2025-06-01</td><td>1</td><td>2</td><td>144.88</td><td>1</td><td>144.88</td></tr><tr><td>2024-09-11</td><td>1</td><td>1</td><td>342.36</td><td>1</td><td>342.36</td></tr><tr><td>2024-09-27</td><td>1</td><td>3</td><td>3621.1900000000005</td><td>1</td><td>3621.19</td></tr><tr><td>2025-07-03</td><td>1</td><td>4</td><td>2294.26</td><td>1</td><td>2294.26</td></tr><tr><td>2024-01-03</td><td>1</td><td>2</td><td>1850.16</td><td>1</td><td>1850.16</td></tr><tr><td>2024-11-30</td><td>1</td><td>4</td><td>963.94</td><td>1</td><td>963.94</td></tr><tr><td>2025-03-13</td><td>1</td><td>1</td><td>352.84</td><td>1</td><td>352.84</td></tr><tr><td>2024-10-17</td><td>1</td><td>4</td><td>2919.53</td><td>1</td><td>2919.53</td></tr><tr><td>2024-02-10</td><td>1</td><td>3</td><td>943.24</td><td>1</td><td>943.24</td></tr><tr><td>2024-07-09</td><td>1</td><td>4</td><td>3384.7400000000002</td><td>1</td><td>3384.74</td></tr><tr><td>2025-07-10</td><td>1</td><td>3</td><td>987.31</td><td>1</td><td>987.31</td></tr><tr><td>2024-06-14</td><td>1</td><td>2</td><td>939.2800000000001</td><td>1</td><td>939.28</td></tr><tr><td>2024-12-25</td><td>1</td><td>4</td><td>1865.63</td><td>1</td><td>1865.63</td></tr><tr><td>2024-08-13</td><td>1</td><td>3</td><td>770.8599999999999</td><td>1</td><td>770.86</td></tr><tr><td>2025-03-22</td><td>2</td><td>5</td><td>3830.1800000000003</td><td>2</td><td>1915.09</td></tr><tr><td>2024-06-30</td><td>1</td><td>4</td><td>807.46</td><td>1</td><td>807.46</td></tr><tr><td>2024-06-11</td><td>1</td><td>4</td><td>1599.6299999999999</td><td>1</td><td>1599.63</td></tr><tr><td>2024-03-18</td><td>1</td><td>4</td><td>1618.66</td><td>1</td><td>1618.66</td></tr><tr><td>2025-04-20</td><td>1</td><td>3</td><td>669.67</td><td>1</td><td>669.67</td></tr><tr><td>2024-02-21</td><td>1</td><td>3</td><td>1342.96</td><td>1</td><td>1342.96</td></tr><tr><td>2024-02-29</td><td>1</td><td>2</td><td>1353.8600000000001</td><td>1</td><td>1353.86</td></tr><tr><td>2025-03-06</td><td>1</td><td>2</td><td>1535.46</td><td>1</td><td>1535.46</td></tr><tr><td>2024-08-12</td><td>1</td><td>2</td><td>1153.76</td><td>1</td><td>1153.76</td></tr><tr><td>2025-07-12</td><td>1</td><td>3</td><td>1465.38</td><td>1</td><td>1465.38</td></tr><tr><td>2025-07-23</td><td>1</td><td>2</td><td>776.6700000000001</td><td>1</td><td>776.67</td></tr><tr><td>2024-06-07</td><td>1</td><td>1</td><td>334.74</td><td>1</td><td>334.74</td></tr><tr><td>2024-05-30</td><td>1</td><td>3</td><td>866.0200000000001</td><td>1</td><td>866.02</td></tr><tr><td>2025-06-03</td><td>1</td><td>2</td><td>1401.66</td><td>1</td><td>1401.66</td></tr><tr><td>2024-03-15</td><td>2</td><td>4</td><td>3247.08</td><td>2</td><td>1623.54</td></tr><tr><td>2024-04-20</td><td>1</td><td>3</td><td>1865.44</td><td>1</td><td>1865.44</td></tr><tr><td>2024-07-13</td><td>3</td><td>7</td><td>3751.1899999999996</td><td>3</td><td>1250.4</td></tr><tr><td>2024-06-19</td><td>1</td><td>1</td><td>606.0</td><td>1</td><td>606.0</td></tr><tr><td>2025-05-07</td><td>1</td><td>1</td><td>271.88</td><td>1</td><td>271.88</td></tr><tr><td>2024-08-07</td><td>1</td><td>2</td><td>342.78</td><td>1</td><td>342.78</td></tr><tr><td>2025-07-26</td><td>1</td><td>4</td><td>2417.9900000000002</td><td>1</td><td>2417.99</td></tr><tr><td>2024-07-28</td><td>1</td><td>1</td><td>704.32</td><td>1</td><td>704.32</td></tr><tr><td>2025-04-26</td><td>1</td><td>4</td><td>3136.88</td><td>1</td><td>3136.88</td></tr><tr><td>2024-10-08</td><td>1</td><td>3</td><td>2131.28</td><td>1</td><td>2131.28</td></tr><tr><td>2024-12-09</td><td>2</td><td>4</td><td>1334.52</td><td>2</td><td>667.26</td></tr><tr><td>2025-03-20</td><td>1</td><td>4</td><td>2357.76</td><td>1</td><td>2357.76</td></tr><tr><td>2025-07-21</td><td>1</td><td>3</td><td>1019.5799999999999</td><td>1</td><td>1019.58</td></tr><tr><td>2024-10-19</td><td>1</td><td>1</td><td>166.98</td><td>1</td><td>166.98</td></tr><tr><td>2025-05-29</td><td>1</td><td>3</td><td>667.14</td><td>1</td><td>667.14</td></tr><tr><td>2024-01-06</td><td>1</td><td>1</td><td>173.42</td><td>1</td><td>173.42</td></tr><tr><td>2024-04-10</td><td>1</td><td>3</td><td>1020.25</td><td>1</td><td>1020.25</td></tr><tr><td>2025-03-12</td><td>1</td><td>4</td><td>2105.48</td><td>1</td><td>2105.48</td></tr><tr><td>2024-05-10</td><td>1</td><td>1</td><td>148.14</td><td>1</td><td>148.14</td></tr><tr><td>2025-03-05</td><td>1</td><td>2</td><td>1810.38</td><td>1</td><td>1810.38</td></tr><tr><td>2024-01-01</td><td>1</td><td>1</td><td>96.06</td><td>1</td><td>96.06</td></tr><tr><td>2025-04-10</td><td>1</td><td>1</td><td>679.7</td><td>1</td><td>679.7</td></tr><tr><td>2024-09-22</td><td>1</td><td>2</td><td>1602.6799999999998</td><td>1</td><td>1602.68</td></tr><tr><td>2024-08-03</td><td>2</td><td>5</td><td>3092.57</td><td>2</td><td>1546.29</td></tr><tr><td>2024-05-23</td><td>1</td><td>1</td><td>296.28</td><td>1</td><td>296.28</td></tr><tr><td>2025-07-04</td><td>1</td><td>3</td><td>1706.83</td><td>1</td><td>1706.83</td></tr><tr><td>2024-11-17</td><td>1</td><td>1</td><td>135.94</td><td>1</td><td>135.94</td></tr><tr><td>2024-11-01</td><td>1</td><td>4</td><td>3081.41</td><td>1</td><td>3081.41</td></tr><tr><td>2024-12-28</td><td>1</td><td>4</td><td>4056.2000000000003</td><td>1</td><td>4056.2</td></tr></tbody></table></div>"
      ]
     },
     "metadata": {
      "application/vnd.databricks.v1+output": {
       "addedWidgets": {},
       "aggData": [],
       "aggError": "",
       "aggOverflow": false,
       "aggSchema": [],
       "aggSeriesLimitReached": false,
       "aggType": "",
       "arguments": {},
       "columnCustomDisplayInfos": {},
       "data": [
        [
         "2024-11-04",
         1,
         2,
         564.49,
         1,
         564.49
        ],
        [
         "2025-05-03",
         1,
         1,
         415.56,
         1,
         415.56
        ],
        [
         "2024-03-10",
         1,
         3,
         4242.59,
         1,
         4242.59
        ],
        [
         "2024-10-10",
         1,
         4,
         2540.6,
         1,
         2540.6
        ],
        [
         "2024-03-03",
         2,
         3,
         949.7700000000001,
         2,
         474.89
        ],
        [
         "2024-10-12",
         2,
         3,
         1073.26,
         2,
         536.63
        ],
        [
         "2024-09-12",
         1,
         4,
         3904.7400000000002,
         1,
         3904.74
        ],
        [
         "2024-07-16",
         1,
         1,
         772.24,
         1,
         772.24
        ],
        [
         "2025-07-20",
         1,
         2,
         2249.38,
         1,
         2249.38
        ],
        [
         "2024-04-21",
         1,
         4,
         2314.1400000000003,
         1,
         2314.14
        ],
        [
         "2024-03-23",
         1,
         2,
         353.38,
         1,
         353.38
        ],
        [
         "2025-03-28",
         1,
         3,
         2117.17,
         1,
         2117.17
        ],
        [
         "2024-01-16",
         1,
         2,
         809.52,
         1,
         809.52
        ],
        [
         "2024-04-24",
         1,
         3,
         3448.2200000000003,
         1,
         3448.22
        ],
        [
         "2025-06-25",
         1,
         3,
         519.4399999999999,
         1,
         519.44
        ],
        [
         "2025-07-30",
         1,
         3,
         2812.9100000000003,
         1,
         2812.91
        ],
        [
         "2024-08-24",
         1,
         2,
         1758.02,
         1,
         1758.02
        ],
        [
         "2024-11-25",
         1,
         2,
         1009.78,
         1,
         1009.78
        ],
        [
         "2024-10-18",
         1,
         3,
         1892.8700000000001,
         1,
         1892.87
        ],
        [
         "2024-09-28",
         2,
         7,
         4656.66,
         2,
         2328.33
        ],
        [
         "2024-03-11",
         1,
         2,
         809.1199999999999,
         1,
         809.12
        ],
        [
         "2025-02-21",
         1,
         2,
         599.9100000000001,
         1,
         599.91
        ],
        [
         "2025-03-29",
         1,
         2,
         1066.06,
         1,
         1066.06
        ],
        [
         "2025-07-05",
         2,
         5,
         2972.62,
         2,
         1486.31
        ],
        [
         "2025-07-19",
         1,
         4,
         2589.41,
         1,
         2589.41
        ],
        [
         "2024-11-02",
         1,
         1,
         96.06,
         1,
         96.06
        ],
        [
         "2025-04-16",
         1,
         4,
         2577.75,
         1,
         2577.75
        ],
        [
         "2025-03-17",
         1,
         4,
         2426.36,
         1,
         2426.36
        ],
        [
         "2024-07-18",
         1,
         4,
         1520.3,
         1,
         1520.3
        ],
        [
         "2024-03-01",
         1,
         2,
         258.91,
         1,
         258.91
        ],
        [
         "2024-08-21",
         1,
         3,
         3146.9700000000003,
         1,
         3146.97
        ],
        [
         "2024-02-28",
         1,
         4,
         3432.5400000000004,
         1,
         3432.54
        ],
        [
         "2024-02-22",
         1,
         2,
         213.79,
         1,
         213.79
        ],
        [
         "2024-05-16",
         1,
         4,
         1517.83,
         1,
         1517.83
        ],
        [
         "2025-06-19",
         1,
         4,
         2200.46,
         1,
         2200.46
        ],
        [
         "2024-11-13",
         1,
         3,
         1900.42,
         1,
         1900.42
        ],
        [
         "2024-10-15",
         1,
         4,
         4841.14,
         1,
         4841.14
        ],
        [
         "2025-06-17",
         1,
         1,
         200.37,
         1,
         200.37
        ],
        [
         "2024-04-28",
         2,
         3,
         2451.8900000000003,
         2,
         1225.95
        ],
        [
         "2025-02-13",
         1,
         2,
         1470.16,
         1,
         1470.16
        ],
        [
         "2025-06-01",
         1,
         2,
         144.88,
         1,
         144.88
        ],
        [
         "2024-09-11",
         1,
         1,
         342.36,
         1,
         342.36
        ],
        [
         "2024-09-27",
         1,
         3,
         3621.1900000000005,
         1,
         3621.19
        ],
        [
         "2025-07-03",
         1,
         4,
         2294.26,
         1,
         2294.26
        ],
        [
         "2024-01-03",
         1,
         2,
         1850.16,
         1,
         1850.16
        ],
        [
         "2024-11-30",
         1,
         4,
         963.94,
         1,
         963.94
        ],
        [
         "2025-03-13",
         1,
         1,
         352.84,
         1,
         352.84
        ],
        [
         "2024-10-17",
         1,
         4,
         2919.53,
         1,
         2919.53
        ],
        [
         "2024-02-10",
         1,
         3,
         943.24,
         1,
         943.24
        ],
        [
         "2024-07-09",
         1,
         4,
         3384.7400000000002,
         1,
         3384.74
        ],
        [
         "2025-07-10",
         1,
         3,
         987.31,
         1,
         987.31
        ],
        [
         "2024-06-14",
         1,
         2,
         939.2800000000001,
         1,
         939.28
        ],
        [
         "2024-12-25",
         1,
         4,
         1865.63,
         1,
         1865.63
        ],
        [
         "2024-08-13",
         1,
         3,
         770.8599999999999,
         1,
         770.86
        ],
        [
         "2025-03-22",
         2,
         5,
         3830.1800000000003,
         2,
         1915.09
        ],
        [
         "2024-06-30",
         1,
         4,
         807.46,
         1,
         807.46
        ],
        [
         "2024-06-11",
         1,
         4,
         1599.6299999999999,
         1,
         1599.63
        ],
        [
         "2024-03-18",
         1,
         4,
         1618.66,
         1,
         1618.66
        ],
        [
         "2025-04-20",
         1,
         3,
         669.67,
         1,
         669.67
        ],
        [
         "2024-02-21",
         1,
         3,
         1342.96,
         1,
         1342.96
        ],
        [
         "2024-02-29",
         1,
         2,
         1353.8600000000001,
         1,
         1353.86
        ],
        [
         "2025-03-06",
         1,
         2,
         1535.46,
         1,
         1535.46
        ],
        [
         "2024-08-12",
         1,
         2,
         1153.76,
         1,
         1153.76
        ],
        [
         "2025-07-12",
         1,
         3,
         1465.38,
         1,
         1465.38
        ],
        [
         "2025-07-23",
         1,
         2,
         776.6700000000001,
         1,
         776.67
        ],
        [
         "2024-06-07",
         1,
         1,
         334.74,
         1,
         334.74
        ],
        [
         "2024-05-30",
         1,
         3,
         866.0200000000001,
         1,
         866.02
        ],
        [
         "2025-06-03",
         1,
         2,
         1401.66,
         1,
         1401.66
        ],
        [
         "2024-03-15",
         2,
         4,
         3247.08,
         2,
         1623.54
        ],
        [
         "2024-04-20",
         1,
         3,
         1865.44,
         1,
         1865.44
        ],
        [
         "2024-07-13",
         3,
         7,
         3751.1899999999996,
         3,
         1250.4
        ],
        [
         "2024-06-19",
         1,
         1,
         606.0,
         1,
         606.0
        ],
        [
         "2025-05-07",
         1,
         1,
         271.88,
         1,
         271.88
        ],
        [
         "2024-08-07",
         1,
         2,
         342.78,
         1,
         342.78
        ],
        [
         "2025-07-26",
         1,
         4,
         2417.9900000000002,
         1,
         2417.99
        ],
        [
         "2024-07-28",
         1,
         1,
         704.32,
         1,
         704.32
        ],
        [
         "2025-04-26",
         1,
         4,
         3136.88,
         1,
         3136.88
        ],
        [
         "2024-10-08",
         1,
         3,
         2131.28,
         1,
         2131.28
        ],
        [
         "2024-12-09",
         2,
         4,
         1334.52,
         2,
         667.26
        ],
        [
         "2025-03-20",
         1,
         4,
         2357.76,
         1,
         2357.76
        ],
        [
         "2025-07-21",
         1,
         3,
         1019.5799999999999,
         1,
         1019.58
        ],
        [
         "2024-10-19",
         1,
         1,
         166.98,
         1,
         166.98
        ],
        [
         "2025-05-29",
         1,
         3,
         667.14,
         1,
         667.14
        ],
        [
         "2024-01-06",
         1,
         1,
         173.42,
         1,
         173.42
        ],
        [
         "2024-04-10",
         1,
         3,
         1020.25,
         1,
         1020.25
        ],
        [
         "2025-03-12",
         1,
         4,
         2105.48,
         1,
         2105.48
        ],
        [
         "2024-05-10",
         1,
         1,
         148.14,
         1,
         148.14
        ],
        [
         "2025-03-05",
         1,
         2,
         1810.38,
         1,
         1810.38
        ],
        [
         "2024-01-01",
         1,
         1,
         96.06,
         1,
         96.06
        ],
        [
         "2025-04-10",
         1,
         1,
         679.7,
         1,
         679.7
        ],
        [
         "2024-09-22",
         1,
         2,
         1602.6799999999998,
         1,
         1602.68
        ],
        [
         "2024-08-03",
         2,
         5,
         3092.57,
         2,
         1546.29
        ],
        [
         "2024-05-23",
         1,
         1,
         296.28,
         1,
         296.28
        ],
        [
         "2025-07-04",
         1,
         3,
         1706.83,
         1,
         1706.83
        ],
        [
         "2024-11-17",
         1,
         1,
         135.94,
         1,
         135.94
        ],
        [
         "2024-11-01",
         1,
         4,
         3081.41,
         1,
         3081.41
        ],
        [
         "2024-12-28",
         1,
         4,
         4056.2000000000003,
         1,
         4056.2
        ]
       ],
       "datasetInfos": [],
       "dbfsResultPath": null,
       "isJsonSchema": true,
       "metadata": {},
       "overflow": false,
       "plotOptions": {
        "customPlotOptions": {},
        "displayType": "table",
        "pivotAggregation": null,
        "pivotColumns": null,
        "xColumns": null,
        "yColumns": null
       },
       "removedWidgets": [],
       "schema": [
        {
         "metadata": "{}",
         "name": "order_date_parsed",
         "type": "\"date\""
        },
        {
         "metadata": "{}",
         "name": "orders_cnt",
         "type": "\"long\""
        },
        {
         "metadata": "{}",
         "name": "items_cnt",
         "type": "\"long\""
        },
        {
         "metadata": "{}",
         "name": "revenue",
         "type": "\"double\""
        },
        {
         "metadata": "{}",
         "name": "distinct_customers",
         "type": "\"long\""
        },
        {
         "metadata": "{}",
         "name": "aov",
         "type": "\"double\""
        }
       ],
       "type": "table"
      }
     },
     "output_type": "display_data"
    }
   ],
   "source": [
    "# Pick your gold table, gold.fact_daily_sales in this case, and download as CSV to import in the dashboard.\n",
    "df = spark.table(\"gold.fact_daily_sales\")\n",
    "display(df)"
   ]
  },
  {
   "cell_type": "markdown",
   "metadata": {
    "application/vnd.databricks.v1+cell": {
     "cellMetadata": {
      "byteLimit": 2048000,
      "rowLimit": 10000
     },
     "inputWidgets": {},
     "nuid": "06de4d68-e0f0-4c2b-a648-70a0d0ac1a60",
     "showTitle": false,
     "tableResultSettingsMap": {},
     "title": ""
    }
   },
   "source": [
    "# \uD83D\uDCC2 Portfolio Summary\n",
    "\n",
    "This project showcases a complete **end-to-end data engineering pipeline** built in Databricks using the **Medallion architecture**.  \n",
    "Starting with raw e-commerce CSV files (Bronze), I cleaned and standardized them into curated Delta tables (Silver), and finally modeled them into fact and dimension tables (Gold).  \n",
    "\n",
    "With this foundation, I produced key KPIs such as **Top 10 Customers by Revenue**, **Revenue by Product Category**, and a **Daily Sales Trend**, and exported the results for BI dashboarding.  \n",
    "\n",
    "This work highlights my ability to:  \n",
    "- Ingest and transform raw data into structured layers.  \n",
    "- Apply **PySpark transformations** and safe parsing techniques.  \n",
    "- Design **fact/dimension tables** for analytics.  \n",
    "- Deliver business-ready insights that can be consumed directly in dashboards.  \n",
    "\n",
    "✅ Demonstrates both **technical skills (PySpark, Delta, Databricks)** and the ability to connect data pipelines to **real business value**."
   ]
  }
 ],
 "metadata": {
  "application/vnd.databricks.v1+notebook": {
   "computePreferences": {
    "hardware": {
     "accelerator": null,
     "gpuPoolId": null,
     "memory": null
    }
   },
   "dashboards": [],
   "environmentMetadata": {
    "base_environment": "",
    "environment_version": "3"
   },
   "inputWidgetPreferences": null,
   "language": "python",
   "notebookMetadata": {
    "mostRecentlyExecutedCommandWithImplicitDF": {
     "commandId": 7203113210157122,
     "dataframes": [
      "_sqldf"
     ]
    },
    "pythonIndentUnit": 4
   },
   "notebookName": "DE_Ecommerce_Proj_24092025",
   "widgets": {}
  },
  "language_info": {
   "name": "python"
  }
 },
 "nbformat": 4,
 "nbformat_minor": 0
}